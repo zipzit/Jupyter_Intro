{
 "cells": [
  {
   "cell_type": "code",
   "execution_count": 10,
   "metadata": {
    "collapsed": false
   },
   "outputs": [],
   "source": [
    "from __future__ import print_function, division\n",
    "import numpy as np\n",
    "from matplotlib import pyplot as plt\n",
    "%matplotlib inline"
   ]
  },
  {
   "cell_type": "code",
   "execution_count": 16,
   "metadata": {
    "collapsed": true
   },
   "outputs": [],
   "source": [
    "v = np.array([4,3])\n",
    "t = np.array([1,1])\n",
    "n = np.array([1,-1])"
   ]
  },
  {
   "cell_type": "code",
   "execution_count": 18,
   "metadata": {
    "collapsed": false
   },
   "outputs": [
    {
     "name": "stdout",
     "output_type": "stream",
     "text": [
      "0 1 7 [ 1 -1] 25 25 [ 0.8  0.6]\n",
      "0 1 7 [ 1 -1] 25\n"
     ]
    }
   ],
   "source": [
    "print(np.dot(t,n), np.dot(v,n), np.dot(v,t), np.dot(v,n)*n, np.dot(v,v), np.dot(v,v), v/(np.sqrt(v[0]**2 + v[1]**2)))\n",
    "print(np.inner(t,n), np.inner(v,n), np.inner(v,t), np.inner(v,n)*n, np.inner(v,v))\n"
   ]
  },
  {
   "cell_type": "code",
   "execution_count": 19,
   "metadata": {
    "collapsed": false
   },
   "outputs": [
    {
     "name": "stdout",
     "output_type": "stream",
     "text": [
      "[3 4] 5.0 [ 0.6  0.8] 1.0\n"
     ]
    }
   ],
   "source": [
    "Cp = np.array([3,4])\n",
    "Cp_len = np.sqrt(np.sum(Cp**2))\n",
    "Cs = Cp/Cp_len\n",
    "Cs_len = np.sqrt(np.sum(Cs**2))\n",
    "print(Cp, Cp_len, Cs, Cs_len)"
   ]
  },
  {
   "cell_type": "code",
   "execution_count": 20,
   "metadata": {
    "collapsed": false
   },
   "outputs": [
    {
     "data": {
      "text/plain": [
       "0"
      ]
     },
     "execution_count": 20,
     "metadata": {},
     "output_type": "execute_result"
    }
   ],
   "source": [
    "Cn = np.array([-4,3])\n",
    "np.dot(Cp,Cn)"
   ]
  },
  {
   "cell_type": "markdown",
   "metadata": {},
   "source": [
    "## Implicit Representation\n",
    "\n",
    "$$\n",
    "\\begin{align}\n",
    "C &= \\{(x,y) | \\phi(x,y) = 0\\}\n",
    "\\end{align}\n",
    "$$\n",
    "\n",
    "### Curve Normal\n",
    "$$\n",
    "\\begin{align}\n",
    "\\vec N &= - \\frac{\\nabla \\phi}{|\\nabla \\phi|}\n",
    "\\end{align}\n",
    "$$\n",
    "\n",
    "### Curvature\n",
    "$$\n",
    "\\begin{align}\n",
    "\\kappa &= \\text{div} \\left ( \\frac{\\nabla \\phi}{|\\nabla \\phi|} \\right ) \\\\\n",
    "\\text{div}(\\alpha, \\beta) &= \\frac{\\partial \\alpha}{\\partial x} + \n",
    "\\frac{\\partial \\beta}{\\partial y} \\\\\n",
    "\\nabla \\phi &= \\left ( \\nabla_x \\phi, \\nabla_y \\phi \\right ) \\\\\n",
    "\\kappa &= \\frac{1}{|\\nabla \\phi|} \\left (\n",
    "\\frac{\\partial \\nabla_x \\phi}{\\partial x} + \n",
    "\\frac{\\partial \\nabla_y \\phi}{\\partial y} \n",
    "\\right )\\\\\n",
    "\\end{align}\n",
    "$$"
   ]
  },
  {
   "cell_type": "markdown",
   "metadata": {},
   "source": [
    "## Curve Motion\n",
    "\n",
    "### Normal Motion\n",
    "$$\n",
    "\\begin{align}\n",
    "\\frac{dC}{dt} &= V \\vec N\\\\\n",
    "0 &= \\frac{\\partial \\phi(x,y,t)}{\\partial t}\\\\\n",
    "&= \\phi_x x_t + \\phi_y y_t + \\phi_t \\\\\n",
    "- \\phi_t &= \\phi_x x_t + \\phi_y y_t  \\\\\n",
    "&= < \\nabla \\phi, C_t > \\\\\n",
    "&= < \\nabla \\phi, V \\vec N > \\\\\n",
    "&= V < \\nabla \\phi, \\vec N > \\\\\n",
    "\\vec N &= - \\frac{\\nabla \\phi}{|\\nabla \\phi|} \\\\\n",
    "- \\phi_t &= - V < \\nabla \\phi, \\frac{\\nabla \\phi}{|\\nabla \\phi|} > \\\\\n",
    "\\phi_t &= V |\\nabla \\phi| \\\\\n",
    "\\end{align}\n",
    "$$\n",
    "\n",
    "### Curvature Motion\n",
    "$$\n",
    "\\begin{align}\n",
    "- \\phi_t &= < \\nabla \\phi, C_t > \\\\\n",
    "&= < \\nabla \\phi, \\kappa \\vec N > \\\\\n",
    "\\vec N &= - \\frac{\\nabla \\phi}{|\\nabla \\phi|} \\\\\n",
    "\\kappa &= \\text{div} \\left ( \\frac{\\nabla \\phi}{|\\nabla \\phi|} \\right ) \\\\\n",
    "\\kappa \\vec N &= - \\left ( \\text{div} \n",
    "\\left (\\frac{\\nabla \\phi}{|\\nabla \\phi|} \\right ) \\right )\n",
    "\\left ( \\frac{\\nabla \\phi}{|\\nabla \\phi|} \\right ) \\\\\n",
    "\\kappa \\vec N &= \\frac{1}{|\\nabla \\phi|} \\left (\n",
    "\\frac{\\partial \\nabla_x \\phi}{\\partial x} + \n",
    "\\frac{\\partial \\nabla_y \\phi}{\\partial y} \\right ) \n",
    "\\left ( \\frac{\\nabla \\phi}{|\\nabla \\phi|} \\right )\\\\\n",
    "\\end{align}\n",
    "$$\n"
   ]
  },
  {
   "cell_type": "markdown",
   "metadata": {
    "collapsed": true
   },
   "source": [
    "$$\n",
    "\\begin{align}\n",
    "- \\phi_t &= < \\nabla \\phi, C_t > \\\\\n",
    "&= < \\nabla \\phi, \\kappa \\vec N > \\\\\n",
    "\\vec N &= - \\frac{\\nabla \\phi}{|\\nabla \\phi|} \\\\\n",
    "\\kappa &= \\text{div} \\left ( \\frac{\\nabla \\phi}{|\\nabla \\phi|} \\right ) \\\\\n",
    "\\end{align}\n",
    "$$"
   ]
  },
  {
   "cell_type": "code",
   "execution_count": 12,
   "metadata": {
    "collapsed": false
   },
   "outputs": [
    {
     "data": {
      "text/plain": [
       "[<matplotlib.lines.Line2D at 0x7f529460ce50>]"
      ]
     },
     "execution_count": 12,
     "metadata": {},
     "output_type": "execute_result"
    },
    {
     "data": {
      "image/png": "[encoded data removed]",
      "text/plain": [
       "<matplotlib.figure.Figure at 0x7f52966ca350>"
      ]
     },
     "metadata": {},
     "output_type": "display_data"
    }
   ],
   "source": [
    "p = np.linspace(0,1,100)\n",
    "theta = p*2*np.pi\n",
    "theta\n",
    "x = np.cos(theta)\n",
    "y = np.sin(theta)\n",
    "plt.plot(x,y)"
   ]
  },
  {
   "cell_type": "markdown",
   "metadata": {},
   "source": [
    "$$\n",
    "\\begin{align}\n",
    "| C_s | &= < C_s, C_s > &= 1 \\\\\n",
    "\\frac{\\partial}{\\partial s} < C_s, C_s > &= \\frac{\\partial}{\\partial s} 1 \\\\\n",
    "< C_s, C_{ss} > &= 0 \\\\\n",
    "\\end{align}\n",
    "$$\n",
    "\n",
    "The inner product of two vectors is zero only if the two vectors are perpendicular.  So,\n",
    "$$\n",
    "\\begin{align}\n",
    "C_s \\perp C_{ss}\\\\\n",
    "\\end{align}\n",
    "$$\n"
   ]
  },
  {
   "cell_type": "code",
   "execution_count": 47,
   "metadata": {
    "collapsed": false
   },
   "outputs": [
    {
     "data": {
      "text/plain": [
       "array([[-1., -1., -1., -1., -1.],\n",
       "       [-1., -1., -1., -1., -1.],\n",
       "       [-1., -1., -1.,  0.,  0.],\n",
       "       [-1., -1.,  0.,  1.,  1.],\n",
       "       [-1.,  0.,  1.,  1.,  1.],\n",
       "       [-1.,  0.,  1.,  1.,  1.]])"
      ]
     },
     "execution_count": 47,
     "metadata": {},
     "output_type": "execute_result"
    }
   ],
   "source": [
    "phi = np.zeros((6,5))-1\n",
    "phi[3:,2:] = 1\n",
    "phi[2,3:]= 0\n",
    "phi[3,2] = 0\n",
    "phi[4:,1] = 0\n",
    "phi"
   ]
  },
  {
   "cell_type": "code",
   "execution_count": 32,
   "metadata": {
    "collapsed": false
   },
   "outputs": [],
   "source": [
    "from scipy import ndimage\n"
   ]
  },
  {
   "cell_type": "code",
   "execution_count": 49,
   "metadata": {
    "collapsed": false
   },
   "outputs": [
    {
     "name": "stdout",
     "output_type": "stream",
     "text": [
      "[[ 0.  0.  0.]\n",
      " [ 1. -1.  0.]\n",
      " [ 0.  0.  0.]]\n",
      "[[ 0.  1.  0.]\n",
      " [ 0. -1.  0.]\n",
      " [ 0.  0.  0.]]\n"
     ]
    }
   ],
   "source": [
    "kx = np.zeros((3,3))\n",
    "kx[1,0] = 1\n",
    "kx[1,1] = -1\n",
    "kx\n",
    "ky = np.zeros((3,3))\n",
    "ky[0,1] = 1\n",
    "ky[1,1] = -1\n",
    "print(kx)\n",
    "print(ky)\n"
   ]
  },
  {
   "cell_type": "code",
   "execution_count": 52,
   "metadata": {
    "collapsed": false
   },
   "outputs": [
    {
     "name": "stdout",
     "output_type": "stream",
     "text": [
      "phix\n",
      "[[ 0.  0.  0.  0.  0.]\n",
      " [ 0.  0.  0.  0.  0.]\n",
      " [ 0.  0.  1.  0.  0.]\n",
      " [ 0.  1.  1.  0.  0.]\n",
      " [ 1.  1.  0.  0.  0.]\n",
      " [ 1.  1.  0.  0.  0.]]\n",
      "phiy\n",
      "[[ 0.  0.  0.  0.  0.]\n",
      " [ 0.  0.  0.  1.  1.]\n",
      " [ 0.  0.  1.  1.  1.]\n",
      " [ 0.  1.  1.  0.  0.]\n",
      " [ 0.  0.  0.  0.  0.]\n",
      " [ 0.  0.  0.  0.  0.]]\n",
      "phim\n",
      "[[ 0.          0.          0.          0.          0.        ]\n",
      " [ 0.          0.          0.          1.          1.        ]\n",
      " [ 0.          0.          1.41421356  1.          1.        ]\n",
      " [ 0.          1.41421356  1.41421356  0.          0.        ]\n",
      " [ 1.          1.          0.          0.          0.        ]\n",
      " [ 1.          1.          0.          0.          0.        ]]\n"
     ]
    }
   ],
   "source": [
    "phix = ndimage.convolve(phi, kx)\n",
    "phiy = ndimage.convolve(phi, ky)\n",
    "phim = np.sqrt(phix**2 + phiy**2)\n",
    "print(\"phix\")\n",
    "print(phix)\n",
    "print(\"phiy\")\n",
    "print(phiy)\n",
    "print(\"phim\")\n",
    "print(phim)\n"
   ]
  },
  {
   "cell_type": "code",
   "execution_count": 57,
   "metadata": {
    "collapsed": false
   },
   "outputs": [
    {
     "name": "stdout",
     "output_type": "stream",
     "text": [
      "[[False False False False False]\n",
      " [False False False False False]\n",
      " [False False False  True  True]\n",
      " [False False  True False False]\n",
      " [False  True False False False]\n",
      " [False  True False False False]]\n"
     ]
    },
    {
     "data": {
      "text/plain": [
       "array([ 0.        ,  0.        ,  0.70710678,  1.        ,  1.        ])"
      ]
     },
     "execution_count": 57,
     "metadata": {},
     "output_type": "execute_result"
    }
   ],
   "source": [
    "mask = phi == 0\n",
    "print(mask)\n",
    "phix[mask]/phim[mask]"
   ]
  },
  {
   "cell_type": "code",
   "execution_count": 25,
   "metadata": {
    "collapsed": false
   },
   "outputs": [
    {
     "data": {
      "text/plain": [
       "<matplotlib.image.AxesImage at 0x7efceaebae90>"
      ]
     },
     "execution_count": 25,
     "metadata": {},
     "output_type": "execute_result"
    },
    {
     "data": {
      "image/png": "[encoded data removed]",
      "text/plain": [
       "<matplotlib.figure.Figure at 0x7efceb3e9510>"
      ]
     },
     "metadata": {},
     "output_type": "display_data"
    }
   ],
   "source": [
    "%matplotlib inline\n",
    "import numpy as np\n",
    "import matplotlib.pyplot as plt\n",
    "\n",
    "# load image\n",
    "img = np.array([[21.0, 20.0, 22.0, 24.0, 18.0, 11.0, 23.0],\n",
    "                [21.0, 20.0, 22.0, 24.0, 18.0, 11.0, 23.0],\n",
    "                [21.0, 20.0, 22.0, 24.0, 18.0, 11.0, 23.0],\n",
    "                [21.0, 20.0, 22.0, 99.0, 18.0, 11.0, 23.0],\n",
    "                [21.0, 20.0, 22.0, 24.0, 18.0, 11.0, 23.0],\n",
    "                [21.0, 20.0, 22.0, 24.0, 18.0, 11.0, 23.0],\n",
    "                [21.0, 20.0, 22.0, 24.0, 18.0, 11.0, 23.0]])\n",
    "# print \"image =\", img\n",
    "\n",
    "# compute gradient of image\n",
    "gx, gy = np.gradient(img)\n",
    "# print \"gx =\", gx\n",
    "# print \"gy =\", gy\n",
    "g = np.gradient(img)\n",
    "# print \"g\"\n",
    "# print g\n",
    "plt.imshow(img/np.max(img), cmap='gray', interpolation='nearest')\n",
    "\n",
    "# plt.imshow(g, cmap='gray', interpolation='nearest')\n"
   ]
  },
  {
   "cell_type": "code",
   "execution_count": 23,
   "metadata": {
    "collapsed": false
   },
   "outputs": [
    {
     "data": {
      "text/plain": [
       "<matplotlib.image.AxesImage at 0x7efceb516fd0>"
      ]
     },
     "execution_count": 23,
     "metadata": {},
     "output_type": "execute_result"
    },
    {
     "data": {
      "image/png": "[encoded data removed]",
      "text/plain": [
       "<matplotlib.figure.Figure at 0x7efceb5c5490>"
      ]
     },
     "metadata": {},
     "output_type": "display_data"
    }
   ],
   "source": [
    "plt.imshow(gx, cmap='gray', interpolation='nearest')\n"
   ]
  },
  {
   "cell_type": "code",
   "execution_count": 24,
   "metadata": {
    "collapsed": false
   },
   "outputs": [
    {
     "data": {
      "text/plain": [
       "<matplotlib.image.AxesImage at 0x7efceaf7a410>"
      ]
     },
     "execution_count": 24,
     "metadata": {},
     "output_type": "execute_result"
    },
    {
     "data": {
      "image/png": "[encoded data removed]",
      "text/plain": [
       "<matplotlib.figure.Figure at 0x7efceb3f85d0>"
      ]
     },
     "metadata": {},
     "output_type": "display_data"
    }
   ],
   "source": [
    "plt.imshow(gy, cmap='gray', interpolation='nearest')"
   ]
  },
  {
   "cell_type": "code",
   "execution_count": 10,
   "metadata": {
    "collapsed": false
   },
   "outputs": [],
   "source": [
    "def divergence(field):\n",
    "    \"return the divergence of a n-D field\"\n",
    "    return np.sum(np.gradient(field),axis=0)"
   ]
  },
  {
   "cell_type": "code",
   "execution_count": 26,
   "metadata": {
    "collapsed": false
   },
   "outputs": [
    {
     "name": "stdout",
     "output_type": "stream",
     "text": [
      "image = [[ 21.  20.  22.  24.  18.  11.  23.]\n",
      " [ 21.  20.  22.  24.  18.  11.  23.]\n",
      " [ 21.  20.  22.  24.  18.  11.  23.]\n",
      " [ 21.  20.  22.  99.  18.  11.  23.]\n",
      " [ 21.  20.  22.  24.  18.  11.  23.]\n",
      " [ 21.  20.  22.  24.  18.  11.  23.]\n",
      " [ 21.  20.  22.  24.  18.  11.  23.]]\n",
      "gx = [[  0.    0.    0.    0.    0.    0.    0. ]\n",
      " [  0.    0.    0.    0.    0.    0.    0. ]\n",
      " [  0.    0.    0.   37.5   0.    0.    0. ]\n",
      " [  0.    0.    0.    0.    0.    0.    0. ]\n",
      " [  0.    0.    0.  -37.5   0.    0.    0. ]\n",
      " [  0.    0.    0.    0.    0.    0.    0. ]\n",
      " [  0.    0.    0.    0.    0.    0.    0. ]]\n",
      "gy = [[ -1.    0.5   2.   -2.   -6.5   2.5  12. ]\n",
      " [ -1.    0.5   2.   -2.   -6.5   2.5  12. ]\n",
      " [ -1.    0.5   2.   -2.   -6.5   2.5  12. ]\n",
      " [ -1.    0.5  39.5  -2.  -44.    2.5  12. ]\n",
      " [ -1.    0.5   2.   -2.   -6.5   2.5  12. ]\n",
      " [ -1.    0.5   2.   -2.   -6.5   2.5  12. ]\n",
      " [ -1.    0.5   2.   -2.   -6.5   2.5  12. ]]\n"
     ]
    },
    {
     "data": {
      "text/plain": [
       "<matplotlib.text.Text at 0x7efceaccc3d0>"
      ]
     },
     "execution_count": 26,
     "metadata": {},
     "output_type": "execute_result"
    },
    {
     "data": {
      "image/png": "[encoded data removed]",
      "text/plain": [
       "<matplotlib.figure.Figure at 0x7efceae6a7d0>"
      ]
     },
     "metadata": {},
     "output_type": "display_data"
    }
   ],
   "source": [
    "import numpy as np\n",
    "import matplotlib.pyplot as plt\n",
    "\n",
    "# load image\n",
    "img = np.array([[21.0, 20.0, 22.0, 24.0, 18.0, 11.0, 23.0],\n",
    "                [21.0, 20.0, 22.0, 24.0, 18.0, 11.0, 23.0],\n",
    "                [21.0, 20.0, 22.0, 24.0, 18.0, 11.0, 23.0],\n",
    "                [21.0, 20.0, 22.0, 99.0, 18.0, 11.0, 23.0],\n",
    "                [21.0, 20.0, 22.0, 24.0, 18.0, 11.0, 23.0],\n",
    "                [21.0, 20.0, 22.0, 24.0, 18.0, 11.0, 23.0],\n",
    "                [21.0, 20.0, 22.0, 24.0, 18.0, 11.0, 23.0]])\n",
    "print \"image =\", img\n",
    "\n",
    "# compute gradient of image\n",
    "gx, gy = np.gradient(img)\n",
    "print \"gx =\", gx\n",
    "print \"gy =\", gy\n",
    "\n",
    "# plotting\n",
    "plt.close(\"all\")\n",
    "plt.figure()\n",
    "plt.suptitle(\"Image, and it gradient along each axis\")\n",
    "ax = plt.subplot(\"131\")\n",
    "ax.axis(\"off\")\n",
    "ax.imshow(img)\n",
    "ax.set_title(\"image\")\n",
    "\n",
    "ax = plt.subplot(\"132\")\n",
    "ax.axis(\"off\")\n",
    "ax.imshow(gx)\n",
    "ax.set_title(\"gx\")\n",
    "\n",
    "ax = plt.subplot(\"133\")\n",
    "ax.axis(\"off\")\n",
    "ax.imshow(gy)\n",
    "ax.set_title(\"gy\")"
   ]
  }
 ],
 "metadata": {
  "kernelspec": {
   "display_name": "Python 2",
   "language": "python",
   "name": "python2"
  },
  "language_info": {
   "codemirror_mode": {
    "name": "ipython",
    "version": 2
   },
   "file_extension": ".py",
   "mimetype": "text/x-python",
   "name": "python",
   "nbconvert_exporter": "python",
   "pygments_lexer": "ipython2",
   "version": "2.7.11"
  }
 },
 "nbformat": 4,
 "nbformat_minor": 0
}
