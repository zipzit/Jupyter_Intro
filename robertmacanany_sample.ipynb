{
cells: [
{
cell_type: "code",
execution_count: 10,
metadata: {
collapsed: false
},
outputs: [ ],
source: [
"from __future__ import print_function, division ",
"import numpy as np ",
"from matplotlib import pyplot as plt ",
"%matplotlib inline"
]
},
{
cell_type: "code",
execution_count: 16,
metadata: {
collapsed: true
},
outputs: [ ],
source: [
"v = np.array([4,3]) ",
"t = np.array([1,1]) ",
"n = np.array([1,-1])"
]
},
{
cell_type: "code",
execution_count: 18,
metadata: {
collapsed: false
},
outputs: [
{
name: "stdout",
output_type: "stream",
text: [
"0 1 7 [ 1 -1] 25 25 [ 0.8 0.6] ",
"0 1 7 [ 1 -1] 25 "
]
}
],
source: [
"print(np.dot(t,n), np.dot(v,n), np.dot(v,t), np.dot(v,n)*n, np.dot(v,v), np.dot(v,v), v/(np.sqrt(v[0]**2 + v[1]**2))) ",
"print(np.inner(t,n), np.inner(v,n), np.inner(v,t), np.inner(v,n)*n, np.inner(v,v)) "
]
},
{
cell_type: "code",
execution_count: 19,
metadata: {
collapsed: false
},
outputs: [
{
name: "stdout",
output_type: "stream",
text: [
"[3 4] 5.0 [ 0.6 0.8] 1.0 "
]
}
],
source: [
"Cp = np.array([3,4]) ",
"Cp_len = np.sqrt(np.sum(Cp**2)) ",
"Cs = Cp/Cp_len ",
"Cs_len = np.sqrt(np.sum(Cs**2)) ",
"print(Cp, Cp_len, Cs, Cs_len)"
]
},
{
cell_type: "code",
execution_count: 20,
metadata: {
collapsed: false
},
outputs: [
{
data: {
text/plain: [
"0"
]
},
execution_count: 20,
metadata: { },
output_type: "execute_result"
}
],
source: [
"Cn = np.array([-4,3]) ",
"np.dot(Cp,Cn)"
]
},
{
cell_type: "markdown",
metadata: { },
source: [
"## Implicit Representation ",
" ",
"$$ ",
"\begin{align} ",
"C &= \{(x,y) | \phi(x,y) = 0\} ",
"\end{align} ",
"$$ ",
" ",
"### Curve Normal ",
"$$ ",
"\begin{align} ",
"\vec N &= - \frac{\nabla \phi}{|\nabla \phi|} ",
"\end{align} ",
"$$ ",
" ",
"### Curvature ",
"$$ ",
"\begin{align} ",
"\kappa &= \text{div} \left ( \frac{\nabla \phi}{|\nabla \phi|} \right ) \\ ",
"\text{div}(\alpha, \beta) &= \frac{\partial \alpha}{\partial x} + ",
"\frac{\partial \beta}{\partial y} \\ ",
"\nabla \phi &= \left ( \nabla_x \phi, \nabla_y \phi \right ) \\ ",
"\kappa &= \frac{1}{|\nabla \phi|} \left ( ",
"\frac{\partial \nabla_x \phi}{\partial x} + ",
"\frac{\partial \nabla_y \phi}{\partial y} ",
"\right )\\ ",
"\end{align} ",
"$$"
]
},
{
cell_type: "markdown",
metadata: { },
source: [
"## Curve Motion ",
" ",
"### Normal Motion ",
"$$ ",
"\begin{align} ",
"\frac{dC}{dt} &= V \vec N\\ ",
"0 &= \frac{\partial \phi(x,y,t)}{\partial t}\\ ",
"&= \phi_x x_t + \phi_y y_t + \phi_t \\ ",
"- \phi_t &= \phi_x x_t + \phi_y y_t \\ ",
"&= < \nabla \phi, C_t > \\ ",
"&= < \nabla \phi, V \vec N > \\ ",
"&= V < \nabla \phi, \vec N > \\ ",
"\vec N &= - \frac{\nabla \phi}{|\nabla \phi|} \\ ",
"- \phi_t &= - V < \nabla \phi, \frac{\nabla \phi}{|\nabla \phi|} > \\ ",
"\phi_t &= V |\nabla \phi| \\ ",
"\end{align} ",
"$$ ",
" ",
"### Curvature Motion ",
"$$ ",
"\begin{align} ",
"- \phi_t &= < \nabla \phi, C_t > \\ ",
"&= < \nabla \phi, \kappa \vec N > \\ ",
"\vec N &= - \frac{\nabla \phi}{|\nabla \phi|} \\ ",
"\kappa &= \text{div} \left ( \frac{\nabla \phi}{|\nabla \phi|} \right ) \\ ",
"\kappa \vec N &= - \left ( \text{div} ",
"\left (\frac{\nabla \phi}{|\nabla \phi|} \right ) \right ) ",
"\left ( \frac{\nabla \phi}{|\nabla \phi|} \right ) \\ ",
"\kappa \vec N &= \frac{1}{|\nabla \phi|} \left ( ",
"\frac{\partial \nabla_x \phi}{\partial x} + ",
"\frac{\partial \nabla_y \phi}{\partial y} \right ) ",
"\left ( \frac{\nabla \phi}{|\nabla \phi|} \right )\\ ",
"\end{align} ",
"$$ "
]
},
{
cell_type: "markdown",
metadata: {
collapsed: true
},
source: [
"$$ ",
"\begin{align} ",
"- \phi_t &= < \nabla \phi, C_t > \\ ",
"&= < \nabla \phi, \kappa \vec N > \\ ",
"\vec N &= - \frac{\nabla \phi}{|\nabla \phi|} \\ ",
"\kappa &= \text{div} \left ( \frac{\nabla \phi}{|\nabla \phi|} \right ) \\ ",
"\end{align} ",
"$$"
]
},
{
cell_type: "code",
execution_count: 12,
metadata: {
collapsed: false
},
outputs: [
{
data: {
text/plain: [
"[<matplotlib.lines.Line2D at 0x7f529460ce50>]"
]
},
execution_count: 12,
metadata: { },
output_type: "execute_result"
},
{
data: {
image/png: "iVBORw0KGgoAAAANSUhEUgAAAYEAAAEACAYAAABVtcpZAAAABHNCSVQICAgIfAhkiAAAAAlwSFlz AAALEgAACxIB0t1+/AAAIABJREFUeJzt3Xl8VPW9//HXB1kEtyIKKFsFIqJFNkEUkVCLLC64oIiK WvdW7XbtT6u20ltt5d6i1pXSgorFDS0KuOFCFFCBK+IGyA6yBWUrIpvJ9/fHJzEsCSSZyZwzM+/n 43EemSRnzvkwnJzP+e4WQkBERLJTtagDEBGR6CgJiIhkMSUBEZEspiQgIpLFlARERLKYkoCISBZL ShIwsxFmlm9mn+xlnwfMbL6ZzTKzdsk4r4iIJCZZJYHHgF5l/dLM+gAtQgg5wHXAsCSdV0REEpCU JBBCmAKs38su/YBRRftOAw4xswbJOLeIiFReqtoEGgFf7vT9iqKfiYhIhNQwLCKSxaqn6DwrgCY7 fd+46Gd7MDNNZiQiUkEhBKvM+5KZBKxoK8044AbgWTPrAmwIIeSXdSBNapccgwcPZvDgwVGHUWHf fgtffAFz5vi2ZAksW+bbypVw6KHQtOme25FHwmGHQb16cPDBUC3J5dxkf54hwLp1sHo1rFrlW/Hr 4q/LlsHy5f5va9ly161FC2jeHOrUSVpIKZWu12ccmVXq/g8kKQmY2VNALlDPzJYBdwI1gRBCGB5C eMXM+prZAmAz8NNknFfS28aNJTf62bNLvq5a5Te51q19+8lPSm70jRtDrVpRR54cZp6w6tWD444r e78dO2DpUliwwLeFCyEvz18vWeLvz8mBNm2gXTto29aPt//+qfqXSDpLShIIIVxcjn1uTMa5JD19 /TXMmFGyzZzpSeCYY/xGf+yxcPXV/rV5c6ieqorKNFCjRsnT/+4KCmDFCi85ffKJJ4e//Q3mz4ej jvKE0LZtSXJo2DDl4UvMWdyqXswsxC2mdJWXl0dubm7Kz7tpE3z44a43/XXroGNH6NTJt44doVmz 5FfZVKWoPs/K2L7dS1azZsHHH5ds++0HXbpA166+dewYXYkhnT7PuDOzSrcJKAlIwvLzYdIk36ZM 8SqK448vueF36gRHH51eN/xMFIKXGt5/3/+fpk6FuXO9hFCcFE4+GQ4/POpIpaKUBCSl1q71aofi G//KlXDqqdCjh39t08arMCT+vvkGpk/3hDB1KnzwATRo4AnhJz+Bnj2VFNKBkoBUqW++8Zv922/7 18WL/SbRo4dv7dt7NYOkv4IC+PxzmDwZ3njDk31ODvTq5VuXLkrwcaQkIEm3YgWMHw/jxnnVQefO cNppftPv2FE3gmyxfbtXH73+Orz2mj8A9OgBvXt7UmjWLOoIBZQEJAlC8EbE4hv/4sXQty+cfbb/ sR98cNQRShzk58PEiZ4UJk707qnnnQcXXOBtCwl0V5cEKAlIpXz3nVfxvPSS3/xr1oR+/fzG37Wr umnK3hUWwv/9H7zwAowZ41WC/ft7QmjfXgkhlZQEpNxC8D/cf/0Lnn0WmjSB88/3G3/r1vrDlcoJ wcd+PP+8J4QQPCH07w8nnKDrqqopCcg+LVwIo0f7zb+wEC65xLejj446Msk0IfiYhDFjfNu+HQYO hJ/+VNdbVVESkFJ99ZU/7Y8e7UlgwAC49FJv5NWTmaRCCD6S+cknfWvVCq66yksIBxwQdXSZQ0lA vheCd+N85BF480044wx/4u/ZUz16JFo7dsCECTBypI9J6N8frrwSTjxRDyWJUhIQNmyAUaPg0Ue9 ge6GG/zmr149EkcrV/r1OnKkP5xceSUMGgT160cdWXpSEshiH33kN/4xY7zv9s9/DqecoicrSQ8h +DiUkSPhxRfh3HPh17/2UedSfokkAc3mkoa2bfP61ZNO8i6dzZr5ZGFPPw3duikBSPow82v2scd8 5tMWLXxcSs+e8Oqr3olBqpZKAmnkm2/gH/+AoUO9O+eNN3qdv/rzSybZts07NNx3H2zd6iWDQYOg du2oI4svVQdluHXr4KGHfOveHW691aduEMlkIfjcRffeC9OmwbXX+oOP1kTYk6qDMtSqVfDb3/pi IkuW+KReY8YoAUh2MPN5isaP92t/3TpfdOi//gvWrIk6usyhJBBDixbB9df7Bb99u8/pM3Kk97EW yUatWnm3508/9b+JY46BW27xFeskMUoCMbJ6tffu6dzZF0yfN8+XCmzaNOrIROKhUSN48EEfkfyf /3hyuP12LyVI5SgJxMCmTXDnnSWLg8+dC3fdpcU8RMrSpIl3jf7wQ68aysnxv6ENG6KOLP0oCURo +3Z4+GGfT2XRIr+g773XSwEism8//KH3mJs+HZYt82Rw//0+OlnKR72DIhCCN/Dedpv3ix4yBNq1 izoqkfQ3e7Z3KV22zLuY9u4ddUSpoS6iaWTaNLjpJl/Gb8gQX8dVRJInBHj5ZU8GrVp56TrTZy9V F9E0sH49/OxncM45ngRmzFACEKkKZnDmmb5Wcm4unHwy3HwzbNwYdWTxpCRQxULwOfyPPdYvztmz ffRjNX3yIlWqZk2/+X/+uSeAVq28/UBTUexK1UFVaO5c7/K5YQMMG+ZdP0UkGjNn+ojj6tVhxAhv RM4Uqg6KmS1b4Pe/99k8+/XzngtKACLR6tDBRx6ff75Pvjh0qLfNZTuVBJJs6lS4/HK/4O67zwe3 iEi8LFwIV1/tD2wjR3p1bTpTSSAGtm/3kYvnnw9//Ss895wSgEhctWgBb73l6x537w533529YwtU EkiCOXN87d4jjvC6xgYNoo5IRMpr2TKfoTQ/Hx5/HNq2jTqiilNJICIh+PTO3br5RTR+vBKASLpp 2tQXsPnlL73b9iOP+N92tlBJoJJWrvSi5Pr13gU00wejiGSD+fPhwgt9+vZ//hMOOSTqiMpHJYEU e/llaN8eunTxhmAlAJHMkJMD77/vC9536OCDOjOdSgIVUFjos3sOH+7L33XtGnVEIlJVnn/ex/nc fjv84hfxXrtbcwelwMaNcNllvojF8897I7CIZLZFi2DAAO/pN3IkHHpo1BGVTtVBVWzOHDjxRL8Q Jk1SAhDJFs2bw5QpPmV1p04+7UumURLYh7FjvR/xLbd4r4GaNaOOSERSqVYtX6PgD3/wCeneeCPq iJJL1UFlKCz0//RRo+CFF/wpQESy27vveu+hwYN9HfC4UJtAkm3bBldcAcuXewKoXz/ScEQkRhYs 8Kmq+/Tx2QH22y/qiNQmkFSbNvl/8NatMHGiEoCI7KplS+9G+sknvj7Ipk1RR5QYJYGdrFkDPXp4 Y9Dzz0Pt2lFHJCJxVLcuvPYaNGzoMwasWBF1RJWnJFBk0SLv93/mmT73fxyKeCISXzVq+JihAQO8 88jSpVFHVDnVow4gDj76yG/+d9zhS0CKiJSHGfzud3DAAZ4I3nrLZyhNJ1mfBN59F/r39+6f/ftH HY2IpKNf/MK7kubmwptv+lKW6SKrk8D77/uN/6mntOi7iCTmuus8Efz4x/D66/CjH0UdUflkbRKY OdNb9p94QglARJLjiis8EfzkJz49dfv2UUe0b1mZBD79FPr29QbgPn2ijkZEMsnAgZ4Ievf2RNCh Q9QR7V1SegeZWW8zm2tm88zsllJ+393MNpjZzKLtjmSctzLmzoVevXwY+LnnRhWFiGSy887zh8wz z/T1jOMs4ZKAmVUDHgJOA1YCM8zspRDC3N12fTeEcHai50vEwoXQsyf85S9w0UVRRiIime7cc33J yt69fd2RuA48TUZJoDMwP4SwNISwA3gG6FfKfpHOxr1ypdfT3X47XH55lJGISLa4/nq4+GI44wz4 5puooyldMpJAI+DLnb5fXvSz3Z1kZrPM7GUzOzYJ5y23b7+Ffv3g6qvjNemTiGS+wYOhXTvvibhj R9TR7ClVDcMfAk1DCN+aWR/gRaDMRRkHDx78/evc3Fxyc3MrfeIQfC3gVq3gttsqfRgRkUoxg0cf 9XaCq67yHomJrlKWl5dHXl5ecuJLdMZOM+sCDA4h9C76/lYghBCG7OU9i4GOIYR1pfwuqbOI/vGP PsfHpEmw//5JO6yISIV8+y2cdprPT/bnPyf32FHPIjoDaGlmzcysJnARMG63ABvs9Loznnz2SADJ 9txzviTciy8qAYhItOrUgQkT4OmnfYr6uEi4OiiEUGBmNwIT8aQyIoQwx8yu81+H4UB/M/sZsAPY AgxI9Lz7MmMG3HijrwLUoMG+9xcRqWr16vkMxX36QJs2cHSZleKpk5GLyqxcCZ07w0MP+ahgEZE4 GT4cHnwQPvjAJ59LlFYW20lhoY8F6N7dl4cUEYmb4g4rBQW+hG2iDcVRtwnEytCh3g3r9tujjkRE pHRmPnPxJ5/4yOJIY8mkksDMmV7XNmMGNG2a5MBERJJswQI4+WQYPx5OPLHyx1FJANi82SdueuAB JQARSQ8tW3pJ4JJLvAtpFDKmJHDttbBtmw/EEBFJJ5dc4usVDx1aufdnfcPw2LFw880waxYcdFAV BSYiUkW+/tq7jI4dC126VPz9WV0dtHatrws8erQSgIikp8MO86rsK6+ErVtTe+60Lwlcfz3UrOkf oIhIugrBJ5k75hi4++6KvTdrq4NmzICzz4Y5c+AHP6jiwEREqtjq1dC2bcVXJMvK6qCCAvj5z+Ge e5QARCQzNGwIf/2rVwsVFKTmnGmbBEaM8HU8Bw2KOhIRkeS59FI48EB48snUnC8tq4PWroVjj4WJ E73oJCKSSd5/Hy68EObNg9q1971/1lUH3XYbDBigBCAimemkk3wE8d/+VvXnSruSwIIF3o92/nyo WzeFgYmIpNC8eT6lxNy53oV0b7Kqd9BVV0GTJr5up4hIJrvhBu8Cf999e98va5LA4sVwwgleGlAp QEQyXX6+t3/OmAHNm5e9X9a0Cdxzj48OVgIQkWzQoAHcdBPcdVfVnSNtSgLLlkH79l5PVq9eBIGJ iETg668hJwe++ALq1y99n6woCQwZAtdcowQgItnlsMO8u+ijj1bN8dOiJLB6tdeLzZ1bdiYUEclU s2fDj38MS5bA/vvv+fuMLwk8/rhPrKQEICLZ6NhjoV07ePrp5B879kkgBPjnP71rqIhItvr1r72r aLIrb2KfBN55x4dNd+4cdSQiItE5/XSfVO7tt5N73NgngREjvBRglartEhHJDGY+eGzEiCQfN84N w+vXw1FH+eCwfQ2bFhHJdGvWwNFHw8qVUKdOyc8ztmH4qaegd28lABER8M4xJ5wAr7ySvGPGOgk8 /rgvriAiIm7AAHjuueQdL7bVQatWebeoNWugRo2ooxIRiYe1a30eoRUrfPEZyNDqoNdeg549lQBE RHZWr56vNzBhQnKOF9sk8Mor0Ldv1FGIiMTPgAHw7LPJOVYsq4O2bw/Ur+/TRDRoEHVEIiLxsnat 95xctw6qV8/A6qD33oOWLZUARERKU68eNG0Ks2YlfqxYJgFVBYmI7F23bvDuu4kfJ5ZJYOJEHx8g IiKlO/VUmDw58ePEsk2gdu3A+vVQq1bU0YiIxNPy5T6z6Jo1sN9+GdYmkJOjBCAisjeNG8PBB3sH mkTEMgm0bx91BCIi8ZeMdgElARGRNNWpU+I9hJQERETSVE4OzJ+f2DFimQTatYs6AhGR+MvJ8an2 ExHL3kFxi0lEJI6++84nkdu2LcN6B4mIyL5Vrw7NmiV2DCUBEZE0lpOT2PuVBERE0piSgIhIFmvc OLH3KwmIiKSxgw5K7P1KAiIiaax4icnKSkoSMLPeZjbXzOaZ2S1l7POAmc03s1lmppEAIiJJEHkS MLNqwENAL+A4YKCZHbPbPn2AFiGEHOA6YFii5xURkRgkAaAzMD+EsDSEsAN4Bui32z79gFEAIYRp wCFmpnXDREQSFIck0Aj4cqfvlxf9bG/7rChlHxERqaD99kvs/dWTE0ZyDR48+PvXubm55ObmRhaL iEjc5OXlkZeXB8CyZYkdK+G5g8ysCzA4hNC76PtbgRBCGLLTPsOASSGEZ4u+nwt0DyHkl3I8zR0k IlJOH30EHTpEO3fQDKClmTUzs5rARcC43fYZB1wG3yeNDaUlABERqZhvvkns/QlXB4UQCszsRmAi nlRGhBDmmNl1/uswPITwipn1NbMFwGbgp4meV0REYpAEAEIIrwGtdvvZ33f7/sZknEtEREokmgQ0 YlhEJI1t2pTY+5UERETSmEoCIiJZbO3axN6vJCAiksYSXWNYSUBEJI3Nn5/Y+5UERETSVAgZmgQK CqKOQEQk/tau9USQiFgmgS++iDoCEZH4W7AgQ9cY/uijqCMQEYm/+fOhZcvEjqEkICKSpj77DFq3 TuwYSgIiImlq8mTo2jWxYyQ8lXSymVmoWzewdi1YpSZGFRHJfN9+C4cfDmvWwIEHRjuVdNLtvz8s WRJ1FCIi8TVtGrRpAwcckNhxYpkEuneHt96KOgoRkfiaPBlOPTXx48QyCfTtC6+8EnUUIiLxNXky dOuW+HFi2SaQnx/IyYGvvoKaNaOOSEQkXnbsgEMP9fWF69YFswxrE6hfH445BqZMiToSEZH4ee89 Hx9Qt27ix4plEgBVCYmIlOW55+CCC5JzLCUBEZE08t138PzzcOGFyTlebJNAx44+OdLChVFHIiIS H++8A40bJz5dRLHYJoFq1TzTjRoVdSQiIvHx3HMwYEDyjhfL3kHFMX38MZx1FixeDPvtF3FgIiIR 27EDjjwSpk+Ho44q+XnG9Q4q1rYtNGgAb7wRdSQiItGbNAmaN981ASQq1kkA4KqrYMSIqKMQEYne iBFwySXJPWasq4MANm6EZs183uzDD48wMBGRCC1bBu3be/X4wQfv+ruMrQ4COOQQ6NcPnnwy6khE RKLz4INw+eV7JoBExb4kAD5HxjXXwOzZ3mtIRCSbfPON14h8+CH88Id7/j6jSwIAp5wCP/gBvPBC 1JGIiKTe449Djx6lJ4BEpUVJAHz08K23wqxZKg2ISPYoLIRWreCxx/yBuDQZXxIA6NPHZxR98cWo IxERSZ0JE7wmJNFlJMuSNknADP7wB/jv/4aYFV5ERKpEYaHf9269teqW202bJAA+etgMxo+POhIR kao3ejTUrg3nnVd150ibNoFiY8fC3XfDjBlaiF5EMtfWrd4WMHp02W0BxbKiTaBYv34lU6mKiGSq hx6CDh32nQASlXYlAYB33/Wh03PmwIEHpigwEZEUWbfOSwGTJ/sqi/uSSEkgLZMAwKBB0KgR3HNP CoISEUmhm2/2AWLDhpVv/6xMAqtXQ5s25c+UIiLpYMECOPFE+OwzOOKI8r0nq9oEijVsCLffDjfd pC6jIpIZCgt95uTf/778CSBRaZsEAG68EfLz1UgsIplh2DBfOOamm1J3zrStDio2eTJcfDF8/nny Z9cTEUmVJUugU6fKVXFnZZvAzq69FrZtgyeeqKKgRESqUAjQqxf8+Mc+OriisrJNYGf33QcffADP PBN1JCIiFffYY94t9OabU3/ujCgJgM+z3aePjyRu1qwKAhMRqQIrVviKYW++CccfX7ljZH1JAKBj R8+igwZBQUHU0YiI7Nt333mb5k03VT4BJCpjkgB4EqhRA/7yl6gjERHZt9tugzp1vLt7VDKmOqjY ihU+38ZLL0GXLkkMTEQkif79b/jNb7wqu169xI6l6qCdNGoEf/87DBjgo4pFROJm3jy4/noYMybx BJCo6om82czqAs8CzYAlwIUhhI2l7LcE2AgUAjtCCJ0TOe++nHOOL0N57rkwaRLsv39Vnk1EpPw2 b4bzz4c//cnHBUQtoeogMxsCrA0h/I+Z3QLUDSHs0cvVzBYBHUMI68txzISqg4oVFsLAgb4k5ahR WntARKIXAlx2ma+T/vjjybsvRVkd1A8oHqL1BHBOGftZEs5VIdWqed/buXM106iIxMPQofDJJ/Do o/F5ME2oOgioH0LIBwghrDaz+mXsF4A3zKwAGB5C+EeC5y2XOnW8gfjEE31u7qpcok1EZG9Gj4YH H4SpU/3eFBf7TAJm9gbQYOcf4Tf1O0rZvax6nK4hhFVmdjieDOaEEKaUdc7Bgwd//zo3N5fc3Nx9 hVmmI4/0JSn79IGjjvJBGSIiqTRxovcEmjQJGjdO/Hh5eXnk5eUlfiASbxOYA+SGEPLNrCEwKYTQ eh/vuRPYFEK4t4zfJ6VNYHdjxvh/wjvvQPPmST+8iEipimczGDsWunatmnNE2SYwDrii6PXlwEu7 72BmdczswKLXBwCnA58leN4Ku+AC+N3v4LTT4MsvU312EclGCxfCWWfB8OFVlwASlWhJ4FDgOaAJ sBTvIrrBzI4A/hFCONPMjgLG4lVF1YHRIYQym2qrqiRQ7N57fc7ud95J3aINIpJ91qyBk0+G3/4W rruuas+V9VNJV9Rdd8HTT0NeHhx+eJWeSkSy0NdfQ8+ecPbZ8Mc/Vv35NGK4gu64wweUnX46rN/n yAURkfJbvRpyc6FvX9ipj0tsZWUSAC8N9OgBvXvDf/4TdTQikglWrIDu3X3amrvvjs9YgL3J2iRg 5gM3Onb0YtvXX0cdkYiks6VL4dRT4eqrfaH4dJG1SQA8ETz8sC/pdsop/p8oIlJRCxZ4CeBXv/KG 4HSS6IjhtGfm6w80aOCJ4NVX4Uc/ijoqEUkXc+d6bcLvf+/rnaebrE8CxX71K08Ep50Gzz8P3bpF HZGIxN3kyT4GacgQuPzyqKOpnKyuDtrdwIHw5JM+x9BLewx7ExEpMWqUTwn9xBPpmwBAJYE9nH66 VwmddRbk56dn8U5Eqk5hIfzhD/DUUz4X0HHHRR1RYrJysFh5zJ8PZ5zhXUiHDvW1i0Uku23Z4k/9 y5fDiy9C/bLmTU4xDRarAjk5MH06LFrk7QT5+VFHJCJRKh4EVr06vP12fBJAopQE9uIHP4Bx43xQ 2QknwAcfRB2RiETho498XZK+fX1dgExaslZJYB+qVfO5Px5+2OcB+UdKlsMRkTgIwf/2Tz8d/ud/ 4M4702MUcEWoTaACvvjCF6/v1g0eeABq1Yo6IhGpKhs2+OjfRYvg2We9ijiu1CaQIq1awbRpPsVE t24wb17UEYlIVZgxAzp0gIYN4b334p0AEqUkUEEHHeSDyS6/3BeJ+PvfvcgoIukvBLj/fu8Z+L// Cw89lFn1/6VRdVAC5syBSy/1xWlGjPARxyKSntauhauugpUr4Zln0msZWlUHRaR1a3j/fWjbFtq1 0yhjkXT1739DmzbQogVMmZJeCSBRKgkkydSpMGiQz0h6//1w4IFRRyQi+7JmDdx4I3z8MYwcGd91 gPdFJYEY6NoVZs3yIeVt28Ibb0QdkYiUJQSf9qFNG3/qnzUrfRNAolQSqAITJsBNN8FJJ/nC9g0b Rh2RiBRbsQJ+9jNYvNif/jt1ijqixKkkEDNnngmffQbNmvmTxsMPQ0FB1FGJZLfCQu/A0b69d//8 8MPMSACJUkmgin3+uT91bNkCw4b5cpYikloffAC//KW/Hj7cq2wziUoCMXbccfDOO3DDDd73+Be/ gI0bo45KJDusWAGXXebz/t9wQ0lvPimhJJACZnDFFV4q2LLFu5YOGwY7dkQdmUhm2roV/vxnOP54 aNzYl4C87DKfC0x2pY8kherV8wnoxo/3Ucc/+hG88IJGHIskSwj+N9W6tdf5z5jhyeCgg6KOLL7U JhCREGDiRLjlFqhd22co1LrGIpX3/vtw220+t9ff/uZjdrKF2gTSkBn06gUzZ3pd5aBBvqTl559H HZlIepk+Hfr0gYsugosv9rn/sykBJEpJIGLVqvn8Q1984Rdujx5w5ZU+fa2IlG3mTH9wOv986NfP l4S95hpf+UvKT0kgJmrVgl//2i/kRo2gc2e45BL49NOoIxOJl48/9nU9zjrLS9Pz58P110PNmlFH lp6UBGLmkEPgT3/ykkDbtr6i0dlne32nSDabNQsuuAB694bu3WHBAp/3J9Oneq5qSgIxdfDB8P/+ nyeD3r29rrNHD29MzoJ2cxHAR/mOH+9VpWeeCV26wMKF8KtfeYcKSZx6B6WJHTt8jvN77vGL/5Zb 4JxzoEaNqCMTSb7Nm+GJJ7yXz0EHwW9+46UAXe+lS6R3kJJAmil+Mho61J+Irr3WG8OOPDLqyEQS t2KFr+b1z3/CKaf4zf+UUzJvcfdkUxfRLFKtmveEePddeO01yM/3QWcXXACTJqmqSNJPCL6O76WX +oSLmzd7G9jYsT52RgmgaqkkkAH+8x/417/gkUd8ttKf/9yHyB9ySNSRiZRt9WoYNcqncw7BS7RX XQV160YdWfpRdZAA/oc0ebIng9df9/7Tgwb505TmTJE42LEDXn3Vp3R+5x047zy/8Z98sp74E6Ek IHsofsoaPRrWr/feRZdc4sVtkVSbOxcee8yvyaOO8hv/hRdqTp9kURKQvfr0U08Go0fDoYd6Mhg4 EJo0iToyyWSLF/tkbmPGwJIlXkV55ZU+uZskl5KAlEthoVcXjR7tf5zHH+8JoV8/OPzwqKOTTLBo kc+QW3zjP/dc6N/fx7ioe2fVURKQCtu2DV55xRfbnjjRq4nOPtu3Vq1UPyvlt2BByY1/+XK/8V9w gY/q1Tw+qaEkIAnZuhXy8mDcON/q1ClJCCefrD9k2dWOHd6F87XX/EEiP98bePv3h1NPhf32izrC 7KMkIEkTgk/FW5wQli2Dvn19acwePaB+/agjlCgsXuw9zl57zR8YcnJ88rbeveGkk3Tjj5qSgFSZ L7+ECRPg5ZdhyhRvTO7Rw+dy6d5dfboz1ebNfrN//XXfNm70m36vXtCzp9qQ4kZJQFLiu+98DvdJ k3x77z1o2dKTQo8eXhVw8MFRRymVsXo1TJ1asn32mU9nXvy0f/zxGmsSZ0oCEont230N1+KkMH26 Nyp37gydOvnWurWqCuKmsBBmz971pr9+vbf/dO3qW6dOmqUznSgJSCxs3VqyuHfxtmoVtG9fkhQ6 dYLmzdX7KFUKCmDePF+I5eOPfU7+adN8vEjxDb9rV0/WetJPX5ElATPrDwwGWgOdQggzy9ivN3A/ PmHdiBDv1DecAAAFc0lEQVTCkL0cU0kgg6xf74lh+vSSxLBlC3TsCMce61vr1r4ddljU0aa3jRvh k092veHPng0NG0K7dr5IUdu2cOKJ/jPJHFEmgVZAIfB34ObSkoCZVQPmAacBK4EZwEUhhLllHFNJ IEny8vLIzc2NOow9rFrlbQtz5vhNqvhrrVolCWHn5HDkkfF4So3D57l1qw/IWrDApxJfsMC3efNg zRof71F8s2/b1r+PaztNHD7PTJFIEkioB3gI4YuiAPZ28s7A/BDC0qJ9nwH6AaUmAUmeuP6RHXGE dzk944ySn4XgyWHnxDB2rL/euBEaN4amTX1r1qzkddOm3mOpTp2qj7uqP88QfEbYVau8oXbVKu+i W3yjX7jQb/TNmnmDfMuW3gZzxhn+ukWL9Gp/iev1mW1SMQyoEfDlTt8vxxODyPfM/In/yCPhtNN2 /d2WLd5Vddmykm3qVHj6aX/95Zdw4IHQqBHUq1e+7YADfGHyqmqb2LHDb+ibNu35deNGH2C1882+ +GuNGp4kGzb0r40be9XZgAF+o2/SJL1u9BJ/+0wCZvYG0GDnHwEBuD2EML6qAhMpVrs2HH20b6UJ Ab76ylelWrt2123pUq962v3n337rN+patXyh8p232rVLXteo4b1pCgr8Sfytt/x1QUHJz4u3LVtK bvbffefVMAcd5F93f92ggVd19ehRctNv2NCTk0gqJaV3kJlNAv6rjDaBLsDgEELvou9vBUJZjcNm pgYBEZEKiqRNYDdlBTADaGlmzYBVwEXAwLIOUtl/iIiIVFxCfS7M7Bwz+xLoAkwws1eLfn6EmU0A CCEUADcCE4HPgWdCCHMSC1tERJIhdoPFREQkdSLtfW1m/c3sMzMrMLMOe9mvt5nNNbN5ZnZLKmNM J2ZW18wmmtkXZva6mZW61LyZLTGzj83sIzObnuo4464815uZPWBm881slpm1S3WM6WJfn6WZdTez DWY2s2i7I4o404WZjTCzfDP7ZC/7VOjajHoIzqfAucA7Ze1QNNjsIaAXcBww0MyOSU14aedW4M0Q QivgbeB3ZexXCOSGENqHENRddyflud7MrA/QIoSQA1wHDEt5oGmgAn+774YQOhRtd6U0yPTzGP55 lqoy12akSSCE8EUIYT5lNyrDToPNQgg7gOLBZrKnfsATRa+fAM4pYz8j+geAuCrP9dYPGAUQQpgG HGJmDZDdlfdvV51ByimEMAVYv5ddKnxtpsONoLTBZo0iiiXu6ocQ8gFCCKuBspaACcAbZjbDzK5J WXTpoTzX2+77rChlHyn/3+5JRVUXL5vZsakJLWNV+Nqs8hHDGmyWXHv5PEurSy2r1b9rCGGVmR2O J4M5RU8YIqn2IdA0hPBtUVXGi0AZwwKlKlR5Eggh9EzwECuApjt937joZ1lpb59nUYNRgxBCvpk1 BNaUcYxVRV+/MrOxeLFdScCV53pbATTZxz5Sjs8yhPDNTq9fNbNHzOzQEMK6FMWYaSp8bcapOmif g83MrCY+2Gxc6sJKK+OAK4peXw68tPsOZlbHzA4sen0AcDrwWaoCTAPlud7GAZfB9yPiNxRXw8ku 9vlZ7lxfbWad8W7rSgB7Z5R9v6zwtZmKCeTKZGbnAA8Ch+GDzWaFEPqY2RHAP0IIZ4YQCsyseLBZ 8XoEGmxWuiHAc2Z2JbAUuBB88B5FnydelTS2aHqO6sDoEMLEqAKOm7KuNzO7zn8dhocQXjGzvma2 ANgM/DTKmOOqPJ8l0N/MfgbsALYAA6KLOP7M7CkgF6hnZsuAO4GaJHBtarCYiEgWi1N1kIiIpJiS gIhIFlMSEBHJYkoCIiJZTElARCSLKQmIiGQxJQERkSymJCAiksX+P+hwsiwHiPBPAAAAAElFTkSu QmCC ",
text/plain: [
"<matplotlib.figure.Figure at 0x7f52966ca350>"
]
},
metadata: { },
output_type: "display_data"
}
],
source: [
"p = np.linspace(0,1,100) ",
"theta = p*2*np.pi ",
"theta ",
"x = np.cos(theta) ",
"y = np.sin(theta) ",
"plt.plot(x,y)"
]
},
{
cell_type: "markdown",
metadata: { },
source: [
"$$ ",
"\begin{align} ",
"| C_s | &= < C_s, C_s > &= 1 \\ ",
"\frac{\partial}{\partial s} < C_s, C_s > &= \frac{\partial}{\partial s} 1 \\ ",
"< C_s, C_{ss} > &= 0 \\ ",
"\end{align} ",
"$$ ",
" ",
"The inner product of two vectors is zero only if the two vectors are perpendicular. So, ",
"$$ ",
"\begin{align} ",
"C_s \perp C_{ss}\\ ",
"\end{align} ",
"$$ "
]
},
{
cell_type: "code",
execution_count: 47,
metadata: {
collapsed: false
},
outputs: [
{
data: {
text/plain: [
"array([[-1., -1., -1., -1., -1.], ",
" [-1., -1., -1., -1., -1.], ",
" [-1., -1., -1., 0., 0.], ",
" [-1., -1., 0., 1., 1.], ",
" [-1., 0., 1., 1., 1.], ",
" [-1., 0., 1., 1., 1.]])"
]
},
execution_count: 47,
metadata: { },
output_type: "execute_result"
}
],
source: [
"phi = np.zeros((6,5))-1 ",
"phi[3:,2:] = 1 ",
"phi[2,3:]= 0 ",
"phi[3,2] = 0 ",
"phi[4:,1] = 0 ",
"phi"
]
},
{
cell_type: "code",
execution_count: 32,
metadata: {
collapsed: false
},
outputs: [ ],
source: [
"from scipy import ndimage "
]
},
{
cell_type: "code",
execution_count: 49,
metadata: {
collapsed: false
},
outputs: [
{
name: "stdout",
output_type: "stream",
text: [
"[[ 0. 0. 0.] ",
" [ 1. -1. 0.] ",
" [ 0. 0. 0.]] ",
"[[ 0. 1. 0.] ",
" [ 0. -1. 0.] ",
" [ 0. 0. 0.]] "
]
}
],
source: [
"kx = np.zeros((3,3)) ",
"kx[1,0] = 1 ",
"kx[1,1] = -1 ",
"kx ",
"ky = np.zeros((3,3)) ",
"ky[0,1] = 1 ",
"ky[1,1] = -1 ",
"print(kx) ",
"print(ky) "
]
},
{
cell_type: "code",
execution_count: 52,
metadata: {
collapsed: false
},
outputs: [
{
name: "stdout",
output_type: "stream",
text: [
"phix ",
"[[ 0. 0. 0. 0. 0.] ",
" [ 0. 0. 0. 0. 0.] ",
" [ 0. 0. 1. 0. 0.] ",
" [ 0. 1. 1. 0. 0.] ",
" [ 1. 1. 0. 0. 0.] ",
" [ 1. 1. 0. 0. 0.]] ",
"phiy ",
"[[ 0. 0. 0. 0. 0.] ",
" [ 0. 0. 0. 1. 1.] ",
" [ 0. 0. 1. 1. 1.] ",
" [ 0. 1. 1. 0. 0.] ",
" [ 0. 0. 0. 0. 0.] ",
" [ 0. 0. 0. 0. 0.]] ",
"phim ",
"[[ 0. 0. 0. 0. 0. ] ",
" [ 0. 0. 0. 1. 1. ] ",
" [ 0. 0. 1.41421356 1. 1. ] ",
" [ 0. 1.41421356 1.41421356 0. 0. ] ",
" [ 1. 1. 0. 0. 0. ] ",
" [ 1. 1. 0. 0. 0. ]] "
]
}
],
source: [
"phix = ndimage.convolve(phi, kx) ",
"phiy = ndimage.convolve(phi, ky) ",
"phim = np.sqrt(phix**2 + phiy**2) ",
"print("phix") ",
"print(phix) ",
"print("phiy") ",
"print(phiy) ",
"print("phim") ",
"print(phim) "
]
},
{
cell_type: "code",
execution_count: 57,
metadata: {
collapsed: false
},
outputs: [
{
name: "stdout",
output_type: "stream",
text: [
"[[False False False False False] ",
" [False False False False False] ",
" [False False False True True] ",
" [False False True False False] ",
" [False True False False False] ",
" [False True False False False]] "
]
},
{
data: {
text/plain: [
"array([ 0. , 0. , 0.70710678, 1. , 1. ])"
]
},
execution_count: 57,
metadata: { },
output_type: "execute_result"
}
],
source: [
"mask = phi == 0 ",
"print(mask) ",
"phix[mask]/phim[mask]"
]
},
{
cell_type: "code",
execution_count: 25,
metadata: {
collapsed: false
},
outputs: [
{
data: {
text/plain: [
"<matplotlib.image.AxesImage at 0x7efceaebae90>"
]
},
execution_count: 25,
metadata: { },
output_type: "execute_result"
},
{
data: {
image/png: "iVBORw0KGgoAAAANSUhEUgAAAPcAAAD7CAYAAAC2TgIoAAAABHNCSVQICAgIfAhkiAAAAAlwSFlz AAALEgAACxIB0t1+/AAACtdJREFUeJzt3d+PVPUZx/HPZ11Yd7EQRaKGFS1R29ikUUzxgjbRNlqC iV41QU1MvfCqBtMmxsYb07/AmLQ3jUjVaDUloXphDSQYG22iWwVFgUBCVbRARHGJLiLC04s9mC0s 2cPO+Z4zPr5fCWF2MsP3C8t75syPnccRIQD5DHS9AQBlEDeQFHEDSRE3kBRxA0kRN5DUYFN/kG1e UwM6EhE+9bzG4pakSy+9dNbXHR8f14IFC2Z9/ePHj8/6uocPH9b8+fNnfX1Jmjt37qyve+jQIZ1/ /vk9rT84OPtv5SeffKKFCxf2tP5nn3026+t+8cUXmjdvXk/rHzx4sKfr92rp0qWzvu6nn36qCy64 YNbX37Nnz7Tnc1gOJEXcQFJ9E/fQ0NB3cm1JOvfccztdf3h4uNP158yZ0+n6XSv17983cXf5H7zr uLuOa2RkpNP1e3m+IoP0cQNoFnEDSRE3kBRxA0kRN5BUrbhtr7S90/Yu2w+U3hSA3s0Yt+0BSX+U 9EtJP5J0u+0flt4YgN7UuedeLml3RLwfEcckPSPptrLbAtCrOnEvlrR3ytcfVucB6GM8oQYkVefn BD+StGTK16PVeacZHx//5vTQ0FDn75kGMjpy5IiOHDky4+XqxD0m6Qrbl0naJ2m1pNunu2AvP48N oJ7h4eH/ez/6mX6Wfsa4I+K47XslbdTkYfzaiNjR0D4BFFLr4zsi4kVJPyi8FwAN4gk1ICniBpIi biAp4gaSIm4gKeIGkiJuICniBpIibiAp4gaSIm4gKeIGkiJuICniBpIibiAp4gaSIm4gKeIGkiJu ICniBpIibiAp4gaSIm4gqTojfNfaPmD77TY2BKAZde6512lyNjeAb5EZ446IVyQdamEvABrEY24g qVqzwupihC9QXpMjfGtjhC9QXt0RvnUPy139AvAtUeelsKcl/UvSVbY/sH13+W0B6NWMh+URcUcb GwHQLJ4tB5IibiAp4gaSIm4gKeIGkiJuICniBpIibiAp4gaSIm4gKeIGkiJuICniBpIibiAp4gaS Im4gKeIGkiJuICniBpIibiAp4gaSIm4gKeIGkqozlGDU9mbb79reZntNGxsD0Js6s8K+lvS7iNhq +zxJb9jeGBE7C+8NQA/qzOfeHxFbq9OfS9ohaXHpjQHozVk95rZ9uaRrJL1WYjMAmlN7hG91SL5e 0n3VPfhpmM8NlNfofG7bg5oM+8mIeO5Ml2M+N1Be0/O5H5O0PSIe6X1rANpQ56WwFZLulPRz21ts v2l7ZfmtAehFnfncr0o6p4W9AGgQ71ADkiJuICniBpIibiAp4gaSIm4gKeIGkiJuICniBpIibiAp 4gaSqv3z3Ohvu3fv7nT9RYsWdbo+Tsc9N5AUcQNJETeQFHEDSRE3kBRxA0kRN5AUcQNJETeQFHED SRE3kNSM7y23PSTpn5LmVpdfHxF/KL0xAL2pM5TgqO0bI2LC9jmSXrX9j4h4vYX9AZilWoflETFR nRzS5A1CFNsRgEbUitv2gO0tkvZL2hQRY2W3BaBXtX6eOyJOSLrW9nxJf7d9dURsP/VyzOcGymt0 PvdJEXHY9kuSVko6LW7mcwPlNTaf2/aFthdUp4cl3SRpZzPbBFBKnXvuSyQ9bntAkzcGz0bEC2W3 BaBXdV4K2yZpWQt7AdAg3qEGJEXcQFLEDSRF3EBSxA0kRdxAUsQNJEXcQFLEDSRF3EBSxA0kxXzu JK688squt4A+wz03kBRxA0kRN5AUcQNJETeQFHEDSRE3kBRxA0kRN5AUcQNJETeQVO24q2GAb9p+ vuSGADTjbO6579M088EA9Ke6I3xHJa2S9GjZ7QBoSt177ocl3S8pCu4FQINm/Hlu27dIOhARW23f IMlnuizzuYHympzPvULSrbZXSRqW9D3bT0TEXadekPncQHmNzeeOiAcjYklELJW0WtLm6cIG0F94 nRtI6qw+Qy0iXpb0cqG9AGgQ99xAUsQNJEXcQFLEDSRF3EBSxA0kRdxAUsQNJEXcQFLEDSRF3EBS xA0kRdxAUsQNJEXcQFLEDSRF3EBSxA0kRdxAUsQNJEXcQFLEDSRF3EBStT633PZ7ksYlnZB0LCKW l9wUgN7VHUpwQtINEXGo5GYANKfuYbnP4rIA+kDdYEPSJttjtu8puSEAzah7WL4iIvbZXqTJyHdE xCunXoj53EB5Tc7nVkTsq37/2PYGScslnRY387mB8hqbz217xPZ51el5km6W9E4z2wRQSp177osk bbAd1eWfioiNZbcFoFczxh0R/5F0TQt7AdAgXt4CkiJuICniBpIibiAp4gaSIm4gKeIGkiJuICni BpIibiAp4gaSIm4gKeIGkiJuICniBpIibiAp4gaSIm4gKeIGkiJuICniBpIibiCpWnHbXmD7b7Z3 2H7X9vWlNwagN3VnhT0i6YWI+JXtQUkjBfcEoAEzxm17vqSfRcSvJSkivpZ0uPC+APSozmH59yUd tL3O9pu2/2x7eMZrAehUnbgHJS2T9KeIWCZpQtLvi+4KQM/qPOb+UNLeiPh39fV6SQ9Md0HmcwPl NTafOyIO2N5r+6qI2CXpF5K2T3dZ5nMD5dWdz1332fI1kp6yPUfSHkl397pBAGXVijsi3pL0k8J7 AdAg3qEGJEXcQFLEDSRF3EBSxA0kRdxAUsQNJEXcQFJ9E/eXX37Z2dpHjx7tbG1Jtd4nXNLExESn 63/11Vedrt+1Ut//vom7y8C6jrvLGzap+xuXY8eOdbp+19LHDaBZxA0k5Yho5g+ym/mDAJy1iPCp 5zUWN4D+wmE5kBRxA0l1HrftlbZ32t5le9rPZiu49lrbB2y/3ea6U9Yftb25GvSwzfaaltcfsv2a 7S3V+g+1uX61h4HqU3Wfb3vtav33bL9V/Ru83vLaRYd9dPqY2/aApJOfy/ZfSWOSVkfEzpbW/6mk zyU9ERE/bmPNU9a/WNLFEbHV9nmS3pB0W1t//2oPIxExYfscSa9KWhMRrf0nt/1bSddJmh8Rt7a1 7pT190i6LiIOdbD2XyS9HBHrTg77iIjGZgJ0fc+9XNLuiHg/Io5JekbSbW0tHhGvSGr9mzpl/f0R sbU6/bmkHZIWt7yHk29PG9Lkx261dmtve1TSKkmPtrXmdNtQBx1MGfaxTpoc9tFk2FL3cS+WtHfK 1x+q5f/c/cL25ZKukfRay+sO2N4iab+kTREx1uLyD0u6Xy3eoEwjJG2yPWb7nhbXLT7so+u4Iak6 JF8v6b7qHrw1EXEiIq6VNCrpettXt7Gu7VskHaiOXFz96sKKatjGKkm/qR6qtaH4sI+u4/5I0pIp X49W531nVI+11kt6MiKe62of1SHhS5JWtrTkCkm3Vo95/yrpRttPtLT2NyJiX/X7x5I2aPKhYhum G/axrMkFuo57TNIVti+zPVfSakltP2va5b2GJD0maXtEPNL2wrYvtL2gOj0s6SZJrTyZFxEPRsSS iFiqye/75oi4q421T7I9Uh01yfY8STdLeqeNtSPigKS9tq+qzjrjsI/ZqjuUoIiIOG77XkkbNXlD szYidrS1vu2nJd0gaaHtDyQ9dPIJjpbWXyHpTknbqse9IenBiHixpS1cIunx6lWLAUnPRsQLLa3d Dy6StKF66/SgpKciYmOL6xcd9sHbT4Gkuj4sB1AIcQNJETeQFHEDSRE3kBRxA0kRN5AUcQNJ/Q8Q PMdWQrhuTAAAAABJRU5ErkJggg== ",
text/plain: [
"<matplotlib.figure.Figure at 0x7efceb3e9510>"
]
},
metadata: { },
output_type: "display_data"
}
],
source: [
"%matplotlib inline ",
"import numpy as np ",
"import matplotlib.pyplot as plt ",
" ",
"# load image ",
"img = np.array([[21.0, 20.0, 22.0, 24.0, 18.0, 11.0, 23.0], ",
" [21.0, 20.0, 22.0, 24.0, 18.0, 11.0, 23.0], ",
" [21.0, 20.0, 22.0, 24.0, 18.0, 11.0, 23.0], ",
" [21.0, 20.0, 22.0, 99.0, 18.0, 11.0, 23.0], ",
" [21.0, 20.0, 22.0, 24.0, 18.0, 11.0, 23.0], ",
" [21.0, 20.0, 22.0, 24.0, 18.0, 11.0, 23.0], ",
" [21.0, 20.0, 22.0, 24.0, 18.0, 11.0, 23.0]]) ",
"# print "image =", img ",
" ",
"# compute gradient of image ",
"gx, gy = np.gradient(img) ",
"# print "gx =", gx ",
"# print "gy =", gy ",
"g = np.gradient(img) ",
"# print "g" ",
"# print g ",
"plt.imshow(img/np.max(img), cmap='gray', interpolation='nearest') ",
" ",
"# plt.imshow(g, cmap='gray', interpolation='nearest') "
]
},
{
cell_type: "code",
execution_count: 23,
metadata: {
collapsed: false
},
outputs: [
{
data: {
text/plain: [
"<matplotlib.image.AxesImage at 0x7efceb516fd0>"
]
},
execution_count: 23,
metadata: { },
output_type: "execute_result"
},
{
data: {
image/png: "iVBORw0KGgoAAAANSUhEUgAAAPcAAAD7CAYAAAC2TgIoAAAABHNCSVQICAgIfAhkiAAAAAlwSFlz AAALEgAACxIB0t1+/AAACkdJREFUeJzt3e+rl/Udx/HX6+QSrdWNNSoUO0a00WCUMbvhBrlRE4O6 NbAFsW50a2FsEI3uaH9BBNudkbmKWjHB1Y0WCh4cNShX2i+VgrSsqTSIRQij8rUb5zLOjkfOZd/r ur6nt88HiN9zuDzvT+nzXNf31/k4iQDUMzHuBQDoB3EDRRE3UBRxA0URN1AUcQNFLerqC9nmOTVg TJJ49uc6i1uSNm/e/LX/7NTUlNauXdvdYr4hs5nP/FHnn6k7LsuBoogbKGrBxD05OXlOzmY+8/ua v2DiXrly5Tk5m/nM72v+gokbQLeIGyiKuIGiiBsoiriBolrFbXud7YO237F9f9+LAjC6eeO2PSHp 95J+LukHkm63/f2+FwZgNG3O3KslvZvk/SSfS3pa0m39LgvAqNrEvUzSkRkff9h8DsACxgNqQFFt 3vL5kaQVMz5e3nzuNFNTU1/dnpycHPvL+oCKDh06pMOHD897XJu490i6yvYVko5K2iDp9rkOHOd7 YoFzxcqVK//vxLl79+45j5s37iRf2r5H0g5NX8ZvSXKgo3UC6Emrn8SS5AVJ3+t5LQA6xANqQFHE DRRF3EBRxA0URdxAUcQNFEXcQFHEDRRF3EBRxA0URdxAUcQNFEXcQFHEDRRF3EBRxA0URdxAUcQN FEXcQFHEDRRF3EBRxA0URdxAUW228N1i+7jtN4ZYEIButDlzb9X03twAvkHmjTvJi5I+GWAtADrE fW6gqFZ7hbXFFr5A/7rcwrc1tvAF+td2C9+2l+VufgH4hmjzVNhTkv4h6WrbH9i+q/9lARjVvJfl SX45xEIAdItHy4GiiBsoiriBoogbKIq4gaKIGyiKuIGiiBsoiriBoogbKIq4gaI6fcsnxmfTpk1j nf/ggw+OdT5Ox5kbKIq4gaKIGyiKuIGiiBsoiriBoogbKIq4gaKIGyiKuIGiiBsoqs2mBMtt77L9 tu03bW8cYmEARtPmjSNfSPptkn22L5T0qu0dSQ72vDYAI2izP/exJPua259JOiBpWd8LAzCas7rP bXtS0rWSXu5jMQC60/r93M0l+TZJ9zZn8NOwPzfQv07357a9SNNhP5Hk2TMdx/7cQP+63p/7UUn7 kzw8+tIADKHNU2FrJN0h6ae299p+zfa6/pcGYBRt9ud+SdJ5A6wFQId4hRpQFHEDRRE3UBRxA0UR N1AUcQNFETdQFHEDRRE3UBRxA0URN1AU+3MXwf7YmI0zN1AUcQNFETdQFHEDRRE3UBRxA0URN1AU cQNFETdQFHEDRRE3UNS8ry23vVjS3yWd3xy/LQkvZAYWuDabEvzX9tokJ2yfJ+kl239L8soA6wPw NbW6LE9yorm5WNPfENLbigB0olXctids75V0TNLOJHv6XRaAUbV6P3eSk5Kus32RpL/avibJ/tnH sT830L9O9+c+JcmntqckrZN0Wtzszw30r7P9uW1fYvvi5vYSSTdJOtjNMgH0pc2Z+3JJj9me0PQ3 g2eSPN/vsgCMqs1TYW9KWjXAWgB0iFeoAUURN1AUcQNFETdQFHEDRRE3UBRxA0URN1AUcQNFETdQ FHEDRbE/dxGbN28+p+fjdJy5gaKIGyiKuIGiiBsoiriBoogbKIq4gaKIGyiKuIGiiBsoiriBolrH 3WwG+Jrt5/pcEIBunM2Z+17NsT8YgIWp7Ra+yyWtl/RIv8sB0JW2Z+6HJN0nKT2uBUCH5n0/t+1b JB1Pss/2jZJ8pmPZnxvoX5f7c6+RdKvt9ZKWSPq27ceT3Dn7QPbnBvrX2f7cSR5IsiLJlZI2SNo1 V9gAFhae5waKOqufoZZkt6S5rwEALCicuYGiiBsoiriBoogbKIq4gaKIGyiKuIGiiBsoiriBoogb KIq4gaLYn7sI9sfGbJy5gaKIGyiKuIGiiBsoiriBoogbKIq4gaKIGyiKuIGiiBsoiriBolq9ttz2 YUn/kXRS0udJVve5KACja/vGkZOSbkzySZ+LAdCdtpflPotjASwAbYONpJ2299i+u88FAehG28vy NUmO2v6upiM/kOTF2QexPzfQvy7351aSo83vH9veLmm1pNPiZn9uoH+d7c9te6ntC5vbF0i6WdJb 3SwTQF/anLkvlbTddprjn0yyo99lARjVvHEnOSTp2gHWAqBDPL0FFEXcQFHEDRRF3EBRxA0URdxA UcQNFEXcQFHEDRRF3EBRxA0URdxAUcQNFEXcQFHEDRRF3EBRxA0URdxAUcQNFEXcQFHEDRRF3EBR reK2fbHtv9g+YPtt2zf0vTAAo2m7V9jDkp5P8gvbiyQt7XFNADowb9y2L5L0kyS/kqQkX0j6tOd1 ARhRm8vylZL+bXur7dds/9H2kr4XBmA0beJeJGmVpD8kWSXphKTf9boqACNrc5/7Q0lHkvyz+Xib pPvnOpD9uYH+dbY/d5Ljto/YvjrJO5J+Jmn/XMeyPzfQv7b7c7d9tHyjpCdtf0vSe5LuGnWBAPrV Ku4kr0v6Uc9rAdAhXqEGFEXcQFHEDRRF3EBRxA0URdxAUcQNFEXcQFELJu5Dhw6dk7OZz/y+5i+Y uNu8EL7ibOYzv6/5CyZuAN0ibqAoJ+nmC9ndfCEAZy2JZ3+us7gBLCxclgNFETdQ1Njjtr3O9kHb 79ie82ez9Th7i+3jtt8Ycu6M+ctt72o2enjT9saB5y+2/bLtvc38TUPOb9Yw0fxU3eeGnt3MP2z7 9eb/wSsDz+51s4+x3ue2PSHp1M9l+5ekPZI2JDk40PwfS/pM0uNJfjjEzFnzL5N0WZJ9ti+U9Kqk 24b672/WsDTJCdvnSXpJ0sYkg/0jt/0bSddLuijJrUPNnTH/PUnXJ/lkDLP/JGl3kq2nNvtI0tme AOM+c6+W9G6S95N8LulpSbcNNTzJi5IG/0udMf9Ykn3N7c8kHZC0bOA1nGhuLtb0j90a7Lu97eWS 1kt6ZKiZcy1DY+hgxmYfW6XpzT66DFsaf9zLJB2Z8fGHGvgf90Jhe1LStZJeHnjuhO29ko5J2plk z4DjH5J0nwb8hjKHSNppe4/tuwec2/tmH+OOG5KaS/Jtku5tzuCDSXIyyXWSlku6wfY1Q8y1fYuk 482Vi5tf47Cm2WxjvaRfN3fVhtD7Zh/jjvsjSStmfLy8+dw5o7mvtU3SE0meHdc6mkvCKUnrBhq5 RtKtzX3eP0taa/vxgWZ/JcnR5vePJW3X9F3FIcy12ceqLgeMO+49kq6yfYXt8yVtkDT0o6bjPGtI 0qOS9id5eOjBti+xfXFze4mkmyQN8mBekgeSrEhypab/3ncluXOI2afYXtpcNcn2BZJulvTWELOT HJd0xPbVzafOuNnH19V2U4JeJPnS9j2Sdmj6G82WJAeGmm/7KUk3SvqO7Q8kbTr1AMdA89dIukPS m8393kh6IMkLAy3hckmPNc9aTEh6JsnzA81eCC6VtL156fQiSU8m2THg/F43++Dlp0BR474sB9AT 4gaKIm6gKOIGiiJuoCjiBooibqAo4gaK+h/Tf81yDXg4vwAAAABJRU5ErkJggg== ",
text/plain: [
"<matplotlib.figure.Figure at 0x7efceb5c5490>"
]
},
metadata: { },
output_type: "display_data"
}
],
source: [
"plt.imshow(gx, cmap='gray', interpolation='nearest') "
]
},
{
cell_type: "code",
execution_count: 24,
metadata: {
collapsed: false
},
outputs: [
{
data: {
text/plain: [
"<matplotlib.image.AxesImage at 0x7efceaf7a410>"
]
},
execution_count: 24,
metadata: { },
output_type: "execute_result"
},
{
data: {
image/png: "iVBORw0KGgoAAAANSUhEUgAAAPcAAAD7CAYAAAC2TgIoAAAABHNCSVQICAgIfAhkiAAAAAlwSFlz AAALEgAACxIB0t1+/AAACvdJREFUeJzt3V+IlXUex/HPZ9JEa+tiWyqczDFplwYWM9YIdyFdzMGg rgzbILaLrjYUhWjxJqL7RNi9WTK3orZScOvCVQdGWmqjZkvLRsX8V2Or0kJYISyV372Yx5gdx53H Oc+f6dv7BeKZwznz/TnOe85z/sz5OSIEIJ+uthcAoB7EDSRF3EBSxA0kRdxAUsQNJDWtqk9km+fU gJZEhMeeV1nckvTkk09O+roDAwNaunTppK8/ffr0SV+3v79fy5Ytm/T1O52/c+dOLV++vKP5X375 5aSvu3v3bi1ZsqSj+WfOnJn0dd966y3dcccdHc2/4YYbJn3dHTt2qK+vr7X5r7zyiu67775JX3/l ypXjns9hOZAUcQNJTZm4e3p6Wps9b9681mZL0k033dTq/Llz57Y6v7u7u9X58+fPb3V+b29vLZ+X uNV+XG1/c7X5tZc6u79ahba//unjBlAt4gaSIm4gKeIGkiJuIKlScdvus33Q9iHbj9W9KACdmzBu 212S/iBpuaReSffb/lndCwPQmTK33IskfRQRH0fE15JeknRvvcsC0Kkycc+WNDzq4xPFeQCmMB5Q A5Iq8yufn0qaM+rj7uK8CwwMDHx3uqenp/WXNQIZDQ0NaWhoaMLLlYl7UNJ82zdKOilplaT7x7tg J7+PDaCc3t7e/3k9+pYtW8a93IRxR8S3th+RtEsjh/GbIuJAResEUJNS78QSETsk/bTmtQCoEA+o AUkRN5AUcQNJETeQFHEDSRE3kBRxA0kRN5AUcQNJETeQFHEDSRE3kBRxA0kRN5AUcQNJETeQFHED SRE3kBRxA0kRN5AUcQNJETeQFHEDSZXZwneT7dO2P2hiQQCqUeaWe7NG9uYG8D0yYdwR8YakzxtY C4AKcZ8bSKrUXmFlsYUvUL8qt/AtjS18gfqV3cK37GG5iz8AvifKPBX2oqR/SLrZ9ie2H6p/WQA6 NeFheUT8pomFAKgWj5YDSRE3kBRxA0kRN5AUcQNJETeQFHEDSRE3kBRxA0kRN5AUcQNJETeQFHED SRE3kBRxA0kRN5AUcQNJETeQFHEDSRE3kBRxA0kRN5AUcQNJldmUoNv2gO0h2/tsr25iYQA6U2av sG8krYuIvbavlPSu7V0RcbDmtQHoQJn9uU9FxN7i9FeSDkiaXffCAHTmku5z254raYGkt+tYDIDq lN7Ctzgk3yppTXELfgH25wbqV+n+3LanaSTs5yPi1Ytdjv25gfpVvT/3M5L2R8TGzpcGoAllngpb LOkBSUtt77H9nu2++pcGoBNl9ud+U9JlDawFQIV4hRqQFHEDSRE3kBRxA0kRN5AUcQNJETeQFHED SRE3kBRxA0kRN5BU6d/nxv+3bt26Vuc/8cQTrc7fsGFDq/OfeuqpVudPRdxyA0kRN5AUcQNJETeQ FHEDSRE3kBRxA0kRN5AUcQNJETeQFHEDSU342nLbMyT9XdLlxeW3RkS7L2QGMKEymxL8x/aSiDhr +zJJb9r+W0S808D6AExSqcPyiDhbnJyhkR8IUduKAFSiVNy2u2zvkXRKUn9EDNa7LACdKvX73BFx TtKttq+S9Ffbt0TE/rGXY39uoH6V7s99XkR8YXu3pD5JF8TN/txA/Srbn9v2NbavLk7PlLRM0sFq lgmgLmVuua+X9KztLo38MHg5IrbXuywAnSrzVNg+SQsbWAuACvEKNSAp4gaSIm4gKeIGkiJuICni BpIibiAp4gaSIm4gKeIGkiJuICn2567ID31/6LVr17a9BIzBLTeQFHEDSRE3kBRxA0kRN5AUcQNJ ETeQFHEDSRE3kBRxA0kRN5BU6biLzQDfs/1anQsCUI1LueVeo3H2BwMwNZXdwrdb0gpJT9e7HABV KXvLvUHSo5KixrUAqNCEv89t+25JpyNir+07Jflil2V/bqB+Ve7PvVjSPbZXSJop6Ue2n4uIB8de kP25gfpVtj93RKyPiDkRMU/SKkkD44UNYGrheW4gqUt6D7WIeF3S6zWtBUCFuOUGkiJuICniBpIi biAp4gaSIm4gKeIGkiJuICniBpIibiAp4gaSIm4gKeIGkiJuICniBpIibiAp4gaSIm4gKeIGkiJu ICniBpIibiAp4gaSKvW+5baPSzoj6ZykryNiUZ2LAtC5spsSnJN0Z0R8XudiAFSn7GG5L+GyAKaA ssGGpH7bg7YfrnNBAKpR9rB8cUSctP0TjUR+ICLeGHsh9ucG6lfl/tyKiJPF35/Z3iZpkaQL4mZ/ bqB+le3PbXuW7SuL01dIukvSh9UsE0BdytxyXytpm+0oLv9CROyqd1kAOjVh3BFxTNKCBtYCoEI8 vQUkRdxAUsQNJEXcQFLEDSRF3EBSxA0kRdxAUsQNJEXcQFLEDSRF3EBSxA0kRdxAUsQNJEXcQFLE DSRF3EBSxA0kRdxAUsQNJEXcQFKl4rZ9te0ttg/YHrJ9e90LA9CZsnuFbZS0PSJW2p4maVaNawJQ gQnjtn2VpF9FxG8lKSK+kfRFzesC0KEyh+U9kv5te7Pt92z/yfbMuhcGoDNl4p4maaGkP0bEQkln Jf2+1lUB6FiZ+9wnJA1HxD+Lj7dKemy8C7I/N1C/yvbnjojTtodt3xwRhyT9WtL+8S7L/txA/cru z1320fLVkl6wPV3SUUkPdbpAAPUqFXdEvC/pFzWvBUCFeIUakBRxA0kRN5AUcQNJETeQFHEDSRE3 kBRxA0lNmbiPHTvW2uwjR460NluSDh8+3Or8Nr/2kjQ8PNzq/La//mVeJz4ZxC3p6NGjrc2W2v/h cvz48VbnnzhxotX5xA3ge4W4gaQcEdV8IruaTwTgkkWEx55XWdwAphYOy4GkiBtIqvW4bffZPmj7 kO1x35utxtmbbJ+2/UGTc0fN77Y9UGz0sM/26obnz7D9tu09xfzHm5xfrKGreFfd15qeXcw/bvv9 4mvwTsOza93so9X73La7JJ1/X7Z/SRqUtCoiDjY0/5eSvpL0XET8vImZY+ZfJ+m6iNhr+0pJ70q6 t6l/f7GGWRFx1vZlkt6UtDoiGvsmt71W0m2SroqIe5qaO2r+UUm3RcTnLcz+s6TXI2Lz+c0+IqKy PQHavuVeJOmjiPg4Ir6W9JKke5saHhFvSGr8P3XU/FMRsbc4/ZWkA5JmN7yGs8XJGRp5263Gftrb 7pa0QtLTTc0cbxlqoYNRm31slkY2+6gybKn9uGdLGv3awxNq+Jt7qrA9V9ICSW83PLfL9h5JpyT1 R8Rgg+M3SHpUDf5AGUdI6rc9aPvhBufWvtlH23FDUnFIvlXSmuIWvDERcS4ibpXULel227c0Mdf2 3ZJOF0cuLv60YXGx2cYKSb8r7qo1ofbNPtqO+1NJc0Z93F2c94NR3NfaKun5iHi1rXUUh4S7JfU1 NHKxpHuK+7x/kbTE9nMNzf5ORJws/v5M0jaN3FVswnibfSysckDbcQ9Kmm/7RtuXS1olqelHTdu8 1ZCkZyTtj4iNTQ+2fY3tq4vTMyUtk9TIg3kRsT4i5kTEPI38vw9ExINNzD7P9qziqEm2r5B0l6QP m5gdEaclDdu+uTjropt9TFbZTQlqERHf2n5E0i6N/KDZFBEHmppv+0VJd0r6se1PJD1+/gGOhuYv lvSApH3F/d6QtD4idjS0hOslPVs8a9El6eWI2N7Q7KngWknbipdOT5P0QkTsanB+rZt98PJTIKm2 D8sB1IS4gaSIG0iKuIGkiBtIiriBpIgbSIq4gaT+CzPl0cpskVmbAAAAAElFTkSuQmCC ",
text/plain: [
"<matplotlib.figure.Figure at 0x7efceb3f85d0>"
]
},
metadata: { },
output_type: "display_data"
}
],
source: [
"plt.imshow(gy, cmap='gray', interpolation='nearest')"
]
},
{
cell_type: "code",
execution_count: 10,
metadata: {
collapsed: false
},
outputs: [ ],
source: [
"def divergence(field): ",
" "return the divergence of a n-D field" ",
" return np.sum(np.gradient(field),axis=0)"
]
},
{
cell_type: "code",
execution_count: 26,
metadata: {
collapsed: false
},
outputs: [
{
name: "stdout",
output_type: "stream",
text: [
"image = [[ 21. 20. 22. 24. 18. 11. 23.] ",
" [ 21. 20. 22. 24. 18. 11. 23.] ",
" [ 21. 20. 22. 24. 18. 11. 23.] ",
" [ 21. 20. 22. 99. 18. 11. 23.] ",
" [ 21. 20. 22. 24. 18. 11. 23.] ",
" [ 21. 20. 22. 24. 18. 11. 23.] ",
" [ 21. 20. 22. 24. 18. 11. 23.]] ",
"gx = [[ 0. 0. 0. 0. 0. 0. 0. ] ",
" [ 0. 0. 0. 0. 0. 0. 0. ] ",
" [ 0. 0. 0. 37.5 0. 0. 0. ] ",
" [ 0. 0. 0. 0. 0. 0. 0. ] ",
" [ 0. 0. 0. -37.5 0. 0. 0. ] ",
" [ 0. 0. 0. 0. 0. 0. 0. ] ",
" [ 0. 0. 0. 0. 0. 0. 0. ]] ",
"gy = [[ -1. 0.5 2. -2. -6.5 2.5 12. ] ",
" [ -1. 0.5 2. -2. -6.5 2.5 12. ] ",
" [ -1. 0.5 2. -2. -6.5 2.5 12. ] ",
" [ -1. 0.5 39.5 -2. -44. 2.5 12. ] ",
" [ -1. 0.5 2. -2. -6.5 2.5 12. ] ",
" [ -1. 0.5 2. -2. -6.5 2.5 12. ] ",
" [ -1. 0.5 2. -2. -6.5 2.5 12. ]] "
]
},
{
data: {
text/plain: [
"<matplotlib.text.Text at 0x7efceaccc3d0>"
]
},
execution_count: 26,
metadata: { },
output_type: "execute_result"
},
{
data: {
image/png: "iVBORw0KGgoAAAANSUhEUgAAAWcAAADUCAYAAABAkeLiAAAABHNCSVQICAgIfAhkiAAAAAlwSFlz AAALEgAACxIB0t1+/AAAIABJREFUeJztnXu0PFlV3z/fc6q6+97fY2bAR8AACxVFEx8LNRHf8UGi kkTHJBo1ikFjlKWiZmkeEDREjY8V37gEDYJLiUhEISydSZREnQHFEUdQImKIT0SR+T3vvd1VdXb+ OKe669659/f+9a3bsz9rnVWnHl11qqvr27v22WeXzAzHcRxnXITjboDjOI7zcFycHcdxRoiLs+M4 zghxcXYcxxkhLs6O4zgjxMXZcRxnhLg432IkXTzuNtxqJL1Y0t2HLP9mSZ9c6l8jabbu9kh6kaQn 3+B+PlHSU2/gM6++keOtG0lvl/SoW7zPj5D0Pbdyn87hVMfdgA3kERM4bmbPG8w+G/hxYO9G9iUp mll3A234shs5XuGTgEvA6673sDdxzHVyy9tpZg8AD9zq/ToPxy3n20SxsP6XpJ+V9DZJ3ybp8yX9 mqQHJT2xbPd0Sa+X9ICkeyW9Z1n+HmX+TcU6/H+9FSTpC8p+flPSD0nSVdrypZJ+XdIbJf10b+EW C/R7Jd1X2nj34DM/IOktku4F3uuI/b5Y0t2Svgp4LPBaSb94yHafUfb1hnK8V5flz5P0Ukm/CrxU 0hMk/bKk3yjlo6/WHkmvlfSUUv80SfeXz/6UpO2y/O2Svql8xw9K+gBJTwD+JfDs8j1+7IE2f1TZ 1wOSflXSkw45r7skvbLs835Jf3NwXj9a2va28v30n3mupP9TzvMnJX3dIft9D0mvKNf413rr/qg2 SQqSvrP8Vn5L0rP6XQFfPTzvQ4516Hcu6bMk/c9Sf4yk35P0Xho8OZT6G8v394CkUwf379wEZubl FhbgQpl+IvBuspBMgD8BnlfWfTXwn0v9jsFnnwl8Z6l/P/CNpf53gQ54FPBk4FVALOt+EPjCq7Tp rkH9+cCzSv3FwE+V+gcBv1/qdwP3lPpjgIeAuw/Z74v75cDbh8cZbDMF/gh4fJn/SeBVpf484A3A pMzPBvX3B95wtfYArwWeAjwa+N/AVln+DcBzBm37ylL/CuCFg+N/3RHf2WkglPqnAK8YXNe+/d8H PLfU/w7wxsF+f5X8ZPpo4F1ABD4K+E2gLvt/62HHB34C+JhSfxzwu1dp01cALwdU5u884rxfdMix Dv3Oy/xLgWcBrwb+ySHn/yrgqaW+3bfNy60p7ta4vbzBzP4CQNIfAPeW5W8iP1IDPE7Sy8miU5Nv KICPAz4LwMzukfRQWf4pZDF6Q7GYZ8A7r9KOD5H0H4E7gVPAPYN1P1uO8RZJvUX68cDLyvJ3SPql azzfwyz4JwN/YGZ/VOZfBgxdEa8ys0WpT4AfkPTh5D+j3lq9lvZ8NPDBwH3le6mB+wfrX1mmDwCf fQ3ncifZmn8S2T1w2L3yceQ/DszstZIeJel0WfcaM2uBv5L0TuC9gY8Bfs7MGqDR0b7rTwU+aPBE dLo8BRzVpk8BfsiKSprZues476O+c8hGxJuB15nZyw/57H3Ad0v6CeBnzOxPjzgf5wZwcb69zAf1 NJhPrL777we+y8xeI+kTyVbXYWgwfYmZ/bvraMePAf/AzN4s6YvJ1s9hbbyie+QmuNJ+Lw/qXwv8 uZl9qKQI7F7nMe41sy84Yn1/nh3X9rt/PvBLZnZ3cYG89jraMjze9RyzR8DfLiK+Wij94A206Wrn faXv/HHk3+p7H7ZjM/t2Sf8d+Ezyn+LTzOyt19Am5xpwn/Ot53oF7izwZ6X+xYPl9wGfCyDpaWSr CeAXgX+klW/6LkmPL/WXSPrIQ45xGvhzSTVwlHgN2/7LwOcWX+ZjyI/sV+NCOZeD/B7wxL6N/Tkd wR3AO0r9i8iugGttz+uBj5X0fgCStg/zEx/g4hFtpizvLcEvOWKbXwG+sBzvk4B3mdmlQ7brv9f7 gL8vaVos7Kcfsd97ga9Zflj6sKu06X8AX17EFUl3HbHfwzj0O5dUAT8KfB7wFklf/7CTkt7XzH7H zL6D7J66oagZ53BcnG89R/WQH7X8m4FXSHoD8JcHln+apN8GPgf4c+Cimb0FeA5wr6QHyTfyXyuf +VBWQj/kucCvk8XkLVdoU/9Y/ErgbcDvkK3u+zmc4edfBPyCDnQImtke8JXAPeUcLwDnj9jfC4Bn SHoj8AEUq/oq7enb/C7gGcDLyvdyP/CBR5xnz6uBzz6sQxD4TuA/SXqAo++TbwI+ohzvW8nidhh9 G3+D7Kd9EHgN8Nsc/l18DfCRpRPvzcCXX6VNPwL8MfDb5bv7p8PjXoWD33n/5/JvgF82s/uBrwee KekDD3z22X0nJLAAfv4ajudcI30HgjMyJE2Azsy60oP+AjN7yhW2PwP8iJldyTI9FiSdMrPLpf6D wFvN7HuPuVnHQv9dSNoiPxF8mZn91nG3yxkf7nMeL48HXi4pkP2GV4znNbOLXNllcJx8WfF1T8jR Cj98zO05Tl4o6YPJUSw/5sLsHIVbzo7jOCPEfc6O4zgjxMXZcRxnhLg4O47jjBAXZ8dxnBHi4uw4 jjNCXJwdx3FGiIuz4zjOCHFxdhzHGSEuzo7jOCPExdlxHGeEuDg7juOMEBdnx3GcEeLi7DiOM0Jc nB3HcUaIi7PjOM4IcXF2HMcZIS7OjuM4I8TF2XEcZ4S4ODuO44wQF2fHcZwR4uLsOI4zQlycHcdx RoiLs+M4zghxcXYcxxkhLs6O4zgjxMXZcRxnhLg4O47jjBAXZ8dxnBHi4uw4jjNCXJwdx3FGiIuz 4zjOCHFxdhzHGSEuzo7jOCPExdlxHGeEuDg7juOMEBdnx3GcEeLi7DiOM0JcnB3HcUaIi7PjOM4I cXF2HMcZIS7OjuM4I8TF2XEcZ4S4ODuO44wQF2fHcZwR4uLsOI4zQlycHcdxRoiLs+M4zghxcXYc xxkhLs6O4zgjxMXZcRxnhLg4O47jjBAXZ8dxnBHi4uw4jjNCXJwdx3FGiIuz4zjOCHFxdhzHGSEu zo7jOCPExdlxHGeEuDg7juOMEBdnx3GcEbIR4izpzZI+4bjb4TiOc6uQmR13GxzHcZwDbITl7DiO s2lshDhLerukT5b0PEkvl/Tjki5IelDSkyT9a0nvlPSHkj518LlnSPrdsu3bJP2LA/v9Bkl/JulP JD1TUpL0vmXdRNJ3lX2+Q9ILJE3Xfe7OCklPkfSbks6X38F/lfT8ch1fLymU7b5C0pskTY67zc7V ucJ1fZOkzxxsV0n6S0kfdpztvVVshDgf4OnAS4A7gd8C7gEEPBZ4PvDCwbbvBD7DzM4CXwJ8t6QP B5D094BnA58MvD/wScDQB/TtZfmHlun7AP/+dp2Uc2Uk1cDPAP8FeBTwMuCzATOz7wD2gOdIen/g W4AvMLPFcbXXuTaudF3J9/k/G2z+mcCfmdmD627nbcHMTnwB3k4W0ecB9wyWPx24wMq3fhrogLNH 7OeVwFeV+o8C3zJY935AAt63zF8CnjhY/1Tg/x73d/FILcDHA398YNmvAP+h1J8A/BXwu8A3HHd7 vdz8dQUeU+7v02X5TwP/6rjbfKvKJlrO7xzUd4F3WblyZV5kkUbSp0t6naS/kvQQ8OnAe5RtHwv8 8WBfy7qk9wS2gQckvVvSu4GfBx59O07IuSYeC/zpgWXLa2Zmfwi8lizSL1hju5yb48jrambvAO4D PkfSHeT79yfW27zbxyaK8zVR/I2vAL4DeE8zu4sssCqbvAP464OPPH5QfxewA/wNM3tUKXea2R1r aLpzOO8gu5aGPK6vFN/kU4FfBL5rje1ybo4rXldWro1/DNxfBHsjeMSKMzAp5V1mliR9OvC0wfqX A18i6cmStoHnUHzOxRJ/EfA9xYpG0vtIehrOcfE6oJP0LElR0j8E/haApEeTr9c/B54BPL1cb2f8 HHldCz8LPAX4auClx9HA28WmiPP1BGv3AnuJfEF/urglPg/4ueVGZr8AfB/5Ufit5B8JwLxMvxF4 G/B6SeeAe4EPuIlzcG4CM2uAu4EvBR4CPh94Nfl6vRB4pZndY2bvLtu8SNJdx9Ve59q4ynXFzPaA /wY8kdxxuDH4IJRrRNKTgTcBUzNLx90e5+pIej3wQ2b2kuNui3PrOHhdJT0XeJKZfdHxtuzWsimW 821B0meVeOa7yKFzr3JhHi+SPkHSe5fH3y8GPgT4heNul3NzXOm6SnoU8Ezgh4+zjbcDF+cr8+XA XwC/DzTAVx5vc5yr8IHAg+TH368FPsfM3nnljzgngEOvq6QvBf4IeI2Z3XecDbwduFvDcRxnhFS3 akfSlTrljFWf3dXqw/nl3geFI+oH5kV+LuhXBa5hmYElsA5SP+2OXpa6PG8JWJD7KBaD+sH5w7ap QdvAFmjr6OnDlh196Wx3+WXcNM/l3/q/90h4Pt96y67rt/G1V7xftSyJsG8+LxvOhwPz+9c9fPuD nwXoiLeoVLSHLG+p9s3XNExZMGHOhAVTFkxLfcK8rBsuK/XUMEmLA9Mj6t1qWeQK3tDH2aHX1d0a juNsEJtjS7g4O46zQdyyh4tjx8XZcZwNwi1nx3GcEeKW8w2wOV+a4zhDxnRvH2Y5j6l9145bzo7j OCPExdlxHGeEuDg7juOMEBdnx3GcEeLi7DiOM0JcnB3HcUaIi7PjOM4IcXF2HMcZIS7OjuM4I8TF 2XEcZ4S4ODuO44wQF2fHcZwRskZx3pxUfo7jDBn7vT329h2OW86O42wQJzMD3WHcsncIXh1xUv/B nJGw7pcRa3Nu9NvLmO7tzUkZukZxHsvFc040RhZpA5IdqPfrDNJgO7MstCJPQ5n2y8Jw3aCOuUBf E2O6tw+7XmNq37WzRnF2nFuAGXSWxbhLg/pg2b75Mg2CqME0HJgXxOEyXJhPJCdTiA/Dxdk5WfSC 2yVoh8XytDtiWRVyiVrVq5AFueqXGVhZ3lvYzgljc/5QXZydk4UBqYjvooMmldIdmB6o16GUeGDa 121ldPWujg260R85uOXsOOun9y13xSJuikDPuzw9oq5Fh00jTAZlOJ8MLBZfM8WtsTk3+SOLzflD dXF2ThY2FOciwHvtYNrCXgfzFu2t1mkWYVphswizCpoKZsVn3Xcc9h2CVdgkA+wRxuZcOBdn52SR WPmVFymL8ryF3VVRX99ryrTNgrxVo0UFTcLaBF2V9wdZmKOy/7kXbOcE4paz4xwPVqIvest50WVL ebeFnQZdbmAn15dlt4Xtqvioa2gT6gxLRYB7V0YVsu+5j/gwNulef4SwOX+qLs7OyeKgz3leLOPd Ngvz5QYuL+BSqV9aZIGeT7Kl3a5cGQJsaTEHmARo40qYnRPI5vyb+ghB5+RgpXSWw+SWlnNxZey0 WZAvFlG+uIBLC3RpgTUlpM4GFrGEorAqQN1BE/eJt3OtjOne9hGCjnMMFJdG2u9z1ryD3eLC6EX5 4hwuzNGFPK82ZTfG0F1RXBmqAjaJpYNwMLDFcY4RF2fnZHEwWqNYzr3PObsy5ujCHM7N4XwWabqE iuG8LyqjLu6MRZX316Ys/q7NzjHj4uycLA74nDUfiPPlgeV8fpGF+dxeFum+709gcSjMOcSOWQuL euXWcMvZOWZcnJ2ThTEIpRtGa/RujQZdXGRr+fwcHtrLBZauDFUh+5knIYfYzVq0qLCmy75s9zk7 I2BDxbn0HBlIuS4zUJliebkZor8Rc93MwBJYynUSZvl52CjLc8qz5dRZI72vuE9Y1McmD10UwxGA 0yoL8HBE4HDY9jDHRiz5NPqsdc710XfY9pkBKffQ8p56+DSVey8pFwNMfdGy5AyCAWSr0h/WViUn Ksz7TWZ0ZnSW6Ex0JlryVCSiElFGp1RKacNgaip3uGzt/YobKs4gDJGQJaRuVSch5XrgwPLyY7Ll Bc7T1e+t1CnbYMvfo7Mm9vmLIzaJaJoHmOTh2glrchzz0jURBHdO4c4Z3DHFzkzg9CTHPm9l4bZJ zGIdQ85Y59p8Y5hh/Xffd96mhKWEuoSSoZRQWa4u+/dTSKRgdNFIwUgBUsh5qCwIi8JCwkKAYMs/ 0b6T15KRSuk6o0uJLokuiTaJtivTJNoEhI6wLIkqJLqY6EKiC30bcrFoWMDF+dZhiI5AR7A219Xu nyfPK3WEkOspqYiySIOSpZ5ct17K83JnjQRKJrli/U4rmPX5NOplFjqz/mmpWNd3TOHsFDs7hTNT OF3Ddp3Fubes60HmOrecr59iEKsMErLifrIuobbL16Utgtwm1HW53hldVZGikSojRUhVTndiVRHm KKxKEFN2SfWWs4F1uaTOSK2RukRqRdsZbZuyMLfK/b0dtC0oJkJMxCoRY6KNRlUZXWW5HdGwyrA4 OL01ZyncWHEW2TLOAtwQaQjWEGhznQP11BDV0lkglbK/HnO97BUCRkBl6qyJfYNGspvCZhE11cM6 80xCvZV9ZpIt5rMTODOBU5OlONusKu6OuBLn4OJ8Q6RiObe2ygjYdvlppumg6VCJtFFZR5dFuauN VEOqsyinWqQ6YFXC6v6ptrgX+luu/CGk1rCmiHNjdI3RtYmuEW2TaBrRttA0omlAVUesE22V8rRO dHWiq1JpR7bCrS7ujcDaH5E3WJyzrRusJbIYlObA/P7SWaSzqkxX9TCoY/lv3Sy65bxONPA1F7cG 05iTGO0TZltua1FZeE9PsrV8erKqn6qzO2QW91vO7ta4cQzowFqDxnIs+iJ33lqfIbDvyO1Lm0gT I00oRaSJsImwScil+LCR5YyBveGcwDrDWiM1kBZGtzC6RRHmRaKdQ7sQzYJcGiNUiTjpiJNEnCS6 SaKdJOqJZQs8Zbdm6oX5GLIUbqg4W/EjZ1dGL8gVcyJ7VDYv9flqGXOizemoaa2is5rWcj1YjagQ NVAXX7ORUP51EK/WIOdWsfQ5q7g1IrQV1hlKV9hme5LFuC/budhWlV0jbjnfPH2PXFes5kXC5n1y qhzyaIN6v9yahE0hzSBNIU0DaSZSG0hdwFLIhpAM633AaeDWSGAt2XJeGGludHOj20t0c7I470Ez N5o5LOaguiPOEtU00U6NdproZit/dbKVxZyPx9pzrWyoOAPYPrdGFuQ9KnaptEdlu9T9PHm+0h6t TWiZ0NqEUErLBFmNrMMsLTsCRUAuzOtFrHzOk7jPYu7Hlyyt67pEZ8xKx99WXToB89S2DvicJ+5z vhkMBnHoRaDnHbaXYLfLZa9dTq2PT18k0lYWZ9sSaSuQWmFFmBMRU8JiwqLtezGClUFJ1mV3RloY 3Z6R9oxu12j3Eu0uNLvQ7PVTI0wT1ayUrUTbJLouLYU5adAZWLF2lwZssDjn7rosztEWRC2obI+a XSp2qNmlZicX26XWDhU7NDajsSmRKcFyEVOw6TJaI5kIFgjEHIrnrI99bo1iFfdxVBLWD8leDjCJ eYBJL8Kz4mPuBbuvLy3n4Utej/tkTxiD3CfWGiyyW8P2sjDbTgc7Hew0WJ8LZafFFgnbE2lbWBNI bcC6QLKuWMwpR2pUBpVhHSuxTKVDsCWL87xYzruJbge6nUC7k2h3oN2FxY6x2DHCrKPa6qi3O9o2 ZYvZjI5cUiidgnU+nqWjT/t2sbFv3x76nIMaos2Jmi8FeqLL1HaZCZepS5nYDpEZ0WYs2ELWAO0y 5rkPqYsEOqpl+J2zRpZ+5yLOKa5+WgPhtjqg3mqet9l1MY35jSilzrA+ifujNdytcR0M7u1lh2AO aWSesL2E7WZhtsstXO6nLXa5gXlHWghrhXUipYBZwIgkdVjscqRGnbBJn851v1sjdwgquzX2jG4X uh3Lwnwp0F5ONJehvSyayxC3EnWTaLtEmxKtJTpyvHMKuYPSaiO1JVxvmDBrTWyk5bwS5uJztmZp OVfaobbL1FxiyiUmfbGL1LpMsC0C24hFEeeuDDzJsc2JQLCKQHZzrMwF57bT99LH8jLWVFxKBwW7 WMy26Er+jbpEdoSVq+Nh88E7BG+W0mfXW87W+533Omw3ZUG+1GLLkjMI2l6HLUIR50CyiBExdVjo sjujTtjEViM4i01k1ncIFst5Ad08kfYC3U6iuyTai9BcEs0lo7kUaC4Zca+jaRJNm6hTorNEqxLj 3If01WDTYqlvtuW8bmzl1iBbzpX2qG2XCTtFlC8ytYtMdIEpF5nYRSKnCDTIGkS+KmZWbOQcUhep iy/bLee1Mwylg8E7/0rnXxNh2odwpVUyoz66oxqI8L6pW863AiuDUKw1bGH7LGfb6bBLHXaxxS40 2MUmT3dbrLgyLGVhhoiFaiDMCZumvN9UQuqAMmh30CEIaQ+63US7I9rLgfZSor0g2oticcFYXBRx u6Ppumw1k0svzF1Vokcaw5oi/i7Ot47e5ZDdGgsqiuVM9i9P7HIWZ84z5cJyGlggmny1ScUYUIlx jrRUJWY6D2Rxn/Oa6YXYwkCYE1SlY7BP+dkemI/Fsq60GqodwxHLvEPwhimWM03uELR5IvXifLnL FvPFBrvQYucb0oVF9kWnEpVBABVhrlqsrmDSZWFu0iD3ST5c7hAsg1AaSPNenMk+50uJ9qJoL4jm vGguQHNexHm2mJtiMbfKotxVKcc4Tw2bFd95eUBed7qVDRbnVbRGtKaEze1Ra7f4mi8x5SJTLjCz c8x0jinnES1Yhw2EuUN05DjnipqGGSGP0sddGmtmmYe5d2VYtnaXw4UHxQb1Ph/HsOiQZct1x32i J5DyfWfLOWGLRJoXt8ZORyo+Z7vYki402PkGO9fkZSnksQOKEFusaqGusEkH07wvmn5oOKvb7mGh dNDNWfmcL2eLubkgmvPQnBOLcyI2HS1dEeYybLvOA2G6qZFmJSyvLedzDFkKN1ic0363BotlyFzN DhN6yzlbzTM7x4yHoHdlYH12DhIxxz9TE5kSWbhb47hYimrpnVkmPinrj6rD8u0n++q9CB9Vd64L G0RrWJNKJEYi7WZhTsWtkc632LmG9FCDXWqBiKmC0ELVYVUHkw6mHTbLHYv5xbzGcBToKlrDSI2w uZH2IO0a3Y7oLhvdRdFegPa8aM5B825RtYmGRKOONuQRgu000U3TSpib7Mu2Y7LBNlacV+QOOw2m WtrE/Xw6pKy2ObiP/ft21sW+0ZhSSZw/XN+vY7XuoDgz8Fj0GqxD1u3/iHOtHLw9hn+eOQ61WL5l ukxcNKgv08wNPs+B+oHDleR2ed4G8+lAfVkGA0v6tqxu9eVnGO5/zWysOBslFIe6WL0TWmY02iIy J7Ag9omP8lg/TGLPzrLHGeacZcEZFpymYZuWLVqb0TGloyYRc3C8375rpb+h9t9oq5uwr3NgucIg 62TJaHZw2b4yzN/gXDMKYFGoEkwCmgaYRcJWJG1HwqLC+uRUKRs8aRLgzhq7o4azNXa6gtMVth1h K+bh9ZMSHlmFHMte/kX76xUqoRrCRISZiFsQ56JaiKoRVQd1l9OFdsDkTKS+06jOBqozgXjaiNuB uBUIs0SYijARqkCx/GbWzAaLc/Y6JyJJkyKqM1q2aFgQS4a6/i/TlMPk5jrNnp1hzmkWnGbBKRrb pmGLVjM6JiSrMarSq+x38FoxSH0HUHnkXM4fORUhGooQIodPq0OWH/e5njSKD199ju06oEmAWYDt SFhErK1ytrpUXIcyNFUR5go7W2FnKjiVxdm2Iprm/BrUZb+RVYY4FfGsINQaiLOICxGbIs4JKhO1 RBdEfRrqs0Z9NlGdCVSnE/GUCFv582EiVJc/mWOK3tlgce6FuaKjpmNKqxmh9xeXHM9gxXUZSFQs OMVcp5jbKeacoimlZYuWGa1N6VSTqEqgvN/C68TSSphTA12Zpna1LLUa1HMJlQh1FuFQQahtUIfY 5SmW/277YBDnOhGDrIFaWs5qOqzJwmypyi+26HNlzAJ2psbO1tiZLM52KqLtmNfNIkxzyKMNR3AC KqGVqpTFeSriNItsbETViqoTdf+MLNFFUW8b9dlAdTZSnUnE04FqOxC3RZyVfdRa/mlrZayvjY0V 5xyvEUkUcVZ2awQ1+TKpf5sJoIBR0almYVss2B6ULRqK5WwzOk1INiFRFbeGW87rJA86yILbNdAt ikgvoFuIriH32C+X5fVxUkR4UkotwgRibcQObLJKPKbAscS1bgQHLGemAc0C1pY8KKlCNhDmCMwC 6UyNne5LlcvSrVHecLO0nLNS5nu3uDYq0GRgObeB2IqYRGWiU6CWSDGnIa23jOp0oj4TqE4HqlNF mLfC0nLObo2SdtbdGreGpUtDWZyTJrRMCSqxyeXVVQhM2TfdqaJjwkIzGtsq0xkL26LRjNa2aDWl 6y1nq3LYj3kShrVRLltK+8W5m4t2XkKoShaybp7XtXPRzaGaQpwacdrXITZgU2EJouVnIIWVm8O5 TjTwOdcqrwzLlnN++3l2ZbDM9gZUwuYdOlVjp2rSqSLMpyK2HUlbxWouIzgtHrCcA2hpOZMt57aU TlSWLeYuBFIQqQqkWtRbgfpUpDqVqE4VcT4VsjtkFgjT7MNWpaXlvG7W+BM82HV+e1kJdLacgya0 tPmVVerdGQFTxKhIqumY0DCjYUrDNHcgLutTuqXlXNwauFtj3exza/TCvMfDSre3f3k1g2pLVLM8 zLcq/upltJ0GwlwfT+/8yWVwb5cXHFgVskBPA3QBpYhZWrozFIAKrAYWgdSnb93eL8xhFkjT7CKx 4gO2YVePDgj0RIQ2EDsRLacmqxSyOMcszDYJ1DOj3k5U24Fqq1jNBy3netUheByx7xtsH6zcGll4 p1mUZeWRqFjWRbxbTak0W6YMbSipQ0v60Ea53tlk4HN2t8a6Ocyt0c5ZpoVsd0WzM5jfgWZP+TF2 DvUWdI1KZ2LOl5JDnnOnYapZZSFbc6KbE88y90npSCtuDcoAE/UO/fK+CibAVDkJ/1ZN2qrRrCJt 5RK2KtIsohKtoTq/NV2hvPS1HLN/0gkTEbpSLOTUZAqkEEglGZZNAzYLTKaJehaot7I4V7McqRG3 ir+5RGu1HcC8AAAIuUlEQVSEKrtpNtxyXi/LDsHic14KM8BAmJMmWZjZI2qrCHVJuF8GnrTUdFbl 5dRLyzlxDG99fIRjaeXWSE12WXR9nt6dnHGsuQzNDjSXs1A3O9Bti3pRkuMsxVcgy509Mff2x9aO bdDBSUcwyAxYQumKMGfhtvxeigqYCKaCWcCaSJoWYZ7Wy/zaaRbRNEdrMM3irPI+wZVbo0SIVNmV EjoRTURlYY4xEKtA1b9RZRZgK1DXMedynnZUs0A1zQIdemGerqI1dExBWZsrzhKmUMR5kpdRlikS VSxqTYla0GqLoMXqFVVUecg2g7pVy/lUQulMwW/kdXLAcm4XxXWxm4V5cYkyFYtLq/mudBKmViUF ZNnfwMccJ0X0+1hp5zopoll8ySQhKy9jDZbjEytQsZiZCRYhv+x1UpMmNUz6N9NU+7IHpklYiWVQ jtLoD9mH0iURTASJGEQKoqpCfg/hNEd92CLAIlBXiXoSqCeRatoRJ4E4EXESlp2BoS5+56jshnG3 xq1Aq0EoqnIHoHrBXlnMnRqimhzBoZaoho7+Ja6RtKyHMoR7/7wRMHPLeV0sB5ns8zn34txbyzC/ KBYXYXGh1C/1YXW2spjLI3aIIlRGrHvxXvmineukz3sShar8RtTlYJ5IGZgi1AiaAG1ATcjDsasK 6hrqKufUqCOqY7aW65j3V4dVtEaflHApzsr6Ty/O2ZWRJqJqQj5eKWpiFue6o6pDLlXIAl2JWIcc RleXwS2BY+kR3FBxBkpOjN5EMkIR5o6gmk4517OUY55Dme4fwH1gULf1g7pDHnlatnHWh5VBKKnV yue8p+zW6C3mizA/D/MLYn4hi7S1YCmP686jAoViiXWuRZwY1aJY1oOsZ8510ofSIaSQNS0aKq4M tbnQJdQG6HIkB1WFYp1FuqqwWEEVsSqimEcG9p1++7yJoVzLCtQLcxSpErELORVpf5w2oC6iNlDH SB0jVdVlYY7KwlyF8oddfM0V+c+mP+YafxcbK865o86y+0EBU0fq315SIjb6EtShkOtm2brqo6D3 pQeQrYbglzejOGumuByWHYL7LOfiyrhYhPk87J2D+Xnl19z3YRnBSmxsEeUJdLOV5exujRukH6gR s9tBIWR/bQIloU7LKclQyuF1OWtgBbGkCg0VIUYsREKIWAx5XyGneNVg+PayQ7AIc4gipBytYUk5 DWmXOyWVIiqRI5OQqEOgDoEqBqqQS4zZJRJC3peCVsP91/x1brA4Z+eXKeTx+/TujZLASLaaD/18 icMMqaQILPOWMJX58op2U07asJJrZx300Rp2IJSuGbg1Fhezxbx3DvYeEnvnwEz5OaeEXYXKCJMc 89xOoZordxa6W+PmCANhtpQtXgOZSsnLMUPJ8jYYfcyaqWSnW9YjKsktpOJrHmQNVD9kXHn/oZRo +VVXlKJlicgiNYk6RCqFZYkKRBWRL0XLsv6vckPFOT9W9e7g3mAarNpfX5YsvNCBytSG9QQqy/rt Hpapzrmd9H7n1PXujX6EoJZWdA6pW0VvLC7lzr5qKuLMqGbQba0Gqiwt5u5AGJ1zfSzvrZXPoXf8 5Wn5g1wut+IgJHeuHygilm1zWfkzBjexVnP5WXl11LhvTShrcqkGJS6LCITlVipHFYNzcreG4xzO MuytgljnkX7VDOoto9tWGa5tWNf7jvPdO7sLpncY07MwOWM58c02VFv583lId4mXPaYRYY4zxMXZ OVEMh1fnXBlGNRPVFtQLWw0w6fP4ylAQ0zuM2Z0wPWtMzsDkFDn5TS/OU1smRup9jI5znLg4OycK Kb8cu49LjlOIM8oAEwbCnIf3ZUs7W8zTs2V6hmw5n3q45bzM3+uWs3PMuDg7J4ul5WwlBA6qWX5F URZmW8aeK9hy5N/kjDE5nYU5W862dGvEqVFNKZazuTg7o2CN4uw9LM7NseyoP+hz7geYdPnVVWZW Igay/zjUxuQUTIq1PDlt1KeKz7l0EO7zObtb4zoZ+7099vYdjlvOzolCYeDWqKGagM1YvYOuuDJC GWASaxGnWYjr7Wwt98K89DmXFKJ9An63nE8ym3PhXJydk8W+LGRG7JQHjSxzZViJYx52GBbf8lbO Spently2tJwnq9dVHUcuBedWcDKt5MNwcXZOFMNojVj3aT+Lj7nk9h36o9sZtEWAq1mxkosrYzW/ P1ojuDCfYDbnwrk4OyeK7LLI+YBD3b9ayko+5t6izhZzN8sj/7pFeQtKGRG4fFVVXy/rYr16wau7 NU4qbjk7zvrR0DoevPOvhMv1L3GNDXTTMnKwMVJThLwuwl0P5mtbvl9wGefcuzWcE8jm/Ku6ODsn i+LWUHmphgSpWMypNmL/Fu5Wq+Hd7eCt21Vxe5SRgPuXDwahbM49/gjDLWfHORZ6t0Zftz7RejfI 9dyVeOdlnWVYXW8VH1ofzrvlfELZnH9VF2fnRNGLZihv3LCUX7JBidiwYb2P4rDiQ+5fBlpy4fRx 08t6OLCNcwJxy9lx1o5U3rkaD7GPbvSedBHeMDbngro4OyeKIy3azbknnZticyxn96w5jrNBbM6/ 9BrFeXO+NMdxhozp3j7Mch5T+64dt5wdx3FGiIuz4zjOCHFxdhzHGSEuzo7jOCPExdlxHGeEuDg7 juOMEBdnx3GcEeLi7DiOM0JcnB3HcUaIi7PjOM4IcXF2HMcZIS7OjuM4I2SN4rw5qfwcxxky9nt7 7O07HLecHcfZIE5mBrrDcHF2HGeDOJlW8mG4ODuOs0G45ew4jjNC3HJ2HMcZIZtjOctsc/5pHMdx NgW3nB3HcUaIi7PjOM4IcXF2HMcZIS7OjuM4I8TF2XEcZ4S4ODuO44wQF2fHcZwR4uLsOI4zQlyc HcdxRoiLs+M4zghxcXYcxxkhLs6O4zgjxMXZcRxnhLg4O47jjBAXZ8dxnBHi4uw4jjNCXJwdx3FG iIuz4zjOCHFxdhzHGSEuzo7jOCPk/wOQKT0QmMt2hgAAAABJRU5ErkJggg== ",
text/plain: [
"<matplotlib.figure.Figure at 0x7efceae6a7d0>"
]
},
metadata: { },
output_type: "display_data"
}
],
source: [
"import numpy as np ",
"import matplotlib.pyplot as plt ",
" ",
"# load image ",
"img = np.array([[21.0, 20.0, 22.0, 24.0, 18.0, 11.0, 23.0], ",
" [21.0, 20.0, 22.0, 24.0, 18.0, 11.0, 23.0], ",
" [21.0, 20.0, 22.0, 24.0, 18.0, 11.0, 23.0], ",
" [21.0, 20.0, 22.0, 99.0, 18.0, 11.0, 23.0], ",
" [21.0, 20.0, 22.0, 24.0, 18.0, 11.0, 23.0], ",
" [21.0, 20.0, 22.0, 24.0, 18.0, 11.0, 23.0], ",
" [21.0, 20.0, 22.0, 24.0, 18.0, 11.0, 23.0]]) ",
"print "image =", img ",
" ",
"# compute gradient of image ",
"gx, gy = np.gradient(img) ",
"print "gx =", gx ",
"print "gy =", gy ",
" ",
"# plotting ",
"plt.close("all") ",
"plt.figure() ",
"plt.suptitle("Image, and it gradient along each axis") ",
"ax = plt.subplot("131") ",
"ax.axis("off") ",
"ax.imshow(img) ",
"ax.set_title("image") ",
" ",
"ax = plt.subplot("132") ",
"ax.axis("off") ",
"ax.imshow(gx) ",
"ax.set_title("gx") ",
" ",
"ax = plt.subplot("133") ",
"ax.axis("off") ",
"ax.imshow(gy) ",
"ax.set_title("gy")"
]
}
],
metadata: {
kernelspec: {
display_name: "Python 2",
language: "python",
name: "python2"
},
language_info: {
codemirror_mode: {
name: "ipython",
version: 2
},
file_extension: ".py",
mimetype: "text/x-python",
name: "python",
nbconvert_exporter: "python",
pygments_lexer: "ipython2",
version: "2.7.11"
}
},
nbformat: 4,
nbformat_minor: 0
}
